{
  "nbformat": 4,
  "nbformat_minor": 0,
  "metadata": {
    "kernelspec": {
      "display_name": "Python 3",
      "language": "python",
      "name": "python3"
    },
    "language_info": {
      "codemirror_mode": {
        "name": "ipython",
        "version": 3
      },
      "file_extension": ".py",
      "mimetype": "text/x-python",
      "name": "python",
      "nbconvert_exporter": "python",
      "pygments_lexer": "ipython3",
      "version": "3.7.6"
    },
    "colab": {
      "name": "enem-predict.ipynb",
      "provenance": [],
      "collapsed_sections": [],
      "include_colab_link": true
    }
  },
  "cells": [
    {
      "cell_type": "markdown",
      "metadata": {
        "id": "view-in-github",
        "colab_type": "text"
      },
      "source": [
        "<a href=\"https://colab.research.google.com/github/lumagallacio/codenation-data-science-2020/blob/master/enem_predict.ipynb\" target=\"_parent\"><img src=\"https://colab.research.google.com/assets/colab-badge.svg\" alt=\"Open In Colab\"/></a>"
      ]
    },
    {
      "cell_type": "code",
      "metadata": {
        "id": "utFilFHe1ePr",
        "colab_type": "code",
        "colab": {}
      },
      "source": [
        "import pandas as pd\n",
        "import matplotlib.pyplot as plt\n",
        "import seaborn as sns\n",
        "import numpy as np\n",
        "from scipy.stats import norm\n",
        "from sklearn.preprocessing import StandardScaler\n",
        "from scipy import stats\n",
        "import warnings\n",
        "warnings.filterwarnings('ignore')\n",
        "%matplotlib inline\n",
        "\n",
        "df_train = pd.read_csv('train.csv', encoding=\"UTF8\")\n",
        "df_test = pd.read_csv('test.csv', encoding=\"UTF8\")"
      ],
      "execution_count": 0,
      "outputs": []
    },
    {
      "cell_type": "markdown",
      "metadata": {
        "id": "9rn1-cIH1i1_",
        "colab_type": "text"
      },
      "source": [
        "Deixar os dados de treinamento com as mesmas colunas que os dados de teste"
      ]
    },
    {
      "cell_type": "code",
      "metadata": {
        "id": "UgdQuOGK1ePy",
        "colab_type": "code",
        "colab": {}
      },
      "source": [
        "features_all = pd.concat([pd.Series(df_test.columns), pd.Series(['NU_NOTA_MT'])]).tolist()\n",
        "features_all\n",
        "df_train = df_train.loc[:, features_all]"
      ],
      "execution_count": 0,
      "outputs": []
    },
    {
      "cell_type": "markdown",
      "metadata": {
        "id": "VqsH0N491vIj",
        "colab_type": "text"
      },
      "source": [
        "Removo colunas com dados irrelevantes (como número de inscrição) e atributos com muitos valores vazios"
      ]
    },
    {
      "cell_type": "code",
      "metadata": {
        "id": "IDuZPrVW1eP0",
        "colab_type": "code",
        "outputId": "277c3f7a-d6e7-45d5-da55-4706452e84c1",
        "colab": {
          "base_uri": "https://localhost:8080/",
          "height": 899
        }
      },
      "source": [
        "def resume_missing_data(df_train):\n",
        "  total = df_train.isnull().sum().sort_values(ascending=False)\n",
        "  percent = (df_train.isnull().sum()/df_train.isnull().count()).sort_values(ascending=False)\n",
        "  missing_data = pd.concat([total, percent], axis=1, keys=['Total', 'Percent'])\n",
        "  print(missing_data.head(100))\n",
        "\n",
        "resume_missing_data(df_train)\n",
        "\n",
        "del df_train['TP_DEPENDENCIA_ADM_ESC']\n",
        "del df_train['TP_ENSINO']\n",
        "del df_train['Q027']\n",
        "del df_train['NU_INSCRICAO']\n",
        "del df_train['SG_UF_RESIDENCIA']\n",
        "del df_train['CO_PROVA_CN']\n",
        "del df_train['CO_PROVA_CH']\n",
        "del df_train['CO_PROVA_LC']\n",
        "del df_train['CO_PROVA_MT']"
      ],
      "execution_count": 0,
      "outputs": [
        {
          "output_type": "stream",
          "text": [
            "                        Total   Percent\n",
            "TP_DEPENDENCIA_ADM_ESC   9448  0.688128\n",
            "TP_ENSINO                9448  0.688128\n",
            "Q027                     7373  0.536999\n",
            "NU_NOTA_MT               3597  0.261981\n",
            "NU_NOTA_COMP5            3597  0.261981\n",
            "NU_NOTA_LC               3597  0.261981\n",
            "TP_STATUS_REDACAO        3597  0.261981\n",
            "NU_NOTA_COMP2            3597  0.261981\n",
            "NU_NOTA_COMP3            3597  0.261981\n",
            "NU_NOTA_COMP4            3597  0.261981\n",
            "NU_NOTA_COMP1            3597  0.261981\n",
            "NU_NOTA_REDACAO          3597  0.261981\n",
            "NU_NOTA_CH               3389  0.246832\n",
            "NU_NOTA_CN               3389  0.246832\n",
            "TP_ESCOLA                   0  0.000000\n",
            "IN_SURDEZ                   0  0.000000\n",
            "IN_CEGUEIRA                 0  0.000000\n",
            "IN_BAIXA_VISAO              0  0.000000\n",
            "CO_UF_RESIDENCIA            0  0.000000\n",
            "IN_TREINEIRO                0  0.000000\n",
            "SG_UF_RESIDENCIA            0  0.000000\n",
            "TP_ANO_CONCLUIU             0  0.000000\n",
            "TP_NACIONALIDADE            0  0.000000\n",
            "NU_IDADE                    0  0.000000\n",
            "TP_ST_CONCLUSAO             0  0.000000\n",
            "TP_SEXO                     0  0.000000\n",
            "IN_DISCALCULIA              0  0.000000\n",
            "TP_COR_RACA                 0  0.000000\n",
            "IN_DISLEXIA                 0  0.000000\n",
            "TP_PRESENCA_LC              0  0.000000\n",
            "IN_SABATISTA                0  0.000000\n",
            "IN_GESTANTE                 0  0.000000\n",
            "Q026                        0  0.000000\n",
            "Q025                        0  0.000000\n",
            "Q024                        0  0.000000\n",
            "Q006                        0  0.000000\n",
            "Q002                        0  0.000000\n",
            "Q001                        0  0.000000\n",
            "TP_LINGUA                   0  0.000000\n",
            "CO_PROVA_MT                 0  0.000000\n",
            "CO_PROVA_LC                 0  0.000000\n",
            "CO_PROVA_CH                 0  0.000000\n",
            "CO_PROVA_CN                 0  0.000000\n",
            "Q047                        0  0.000000\n",
            "TP_PRESENCA_CH              0  0.000000\n",
            "TP_PRESENCA_CN              0  0.000000\n",
            "IN_IDOSO                    0  0.000000\n",
            "NU_INSCRICAO                0  0.000000\n"
          ],
          "name": "stdout"
        }
      ]
    },
    {
      "cell_type": "code",
      "metadata": {
        "id": "02HHzsVa1eP3",
        "colab_type": "code",
        "outputId": "d810d246-3bbf-4682-c04c-174e208a149d",
        "colab": {
          "base_uri": "https://localhost:8080/",
          "height": 737
        }
      },
      "source": [
        "resume_missing_data(df_train)"
      ],
      "execution_count": 0,
      "outputs": [
        {
          "output_type": "stream",
          "text": [
            "                   Total   Percent\n",
            "NU_NOTA_MT          3597  0.261981\n",
            "NU_NOTA_REDACAO     3597  0.261981\n",
            "NU_NOTA_LC          3597  0.261981\n",
            "TP_STATUS_REDACAO   3597  0.261981\n",
            "NU_NOTA_COMP1       3597  0.261981\n",
            "NU_NOTA_COMP3       3597  0.261981\n",
            "NU_NOTA_COMP4       3597  0.261981\n",
            "NU_NOTA_COMP5       3597  0.261981\n",
            "NU_NOTA_COMP2       3597  0.261981\n",
            "NU_NOTA_CH          3389  0.246832\n",
            "NU_NOTA_CN          3389  0.246832\n",
            "TP_ANO_CONCLUIU        0  0.000000\n",
            "TP_ST_CONCLUSAO        0  0.000000\n",
            "TP_NACIONALIDADE       0  0.000000\n",
            "IN_DISCALCULIA         0  0.000000\n",
            "TP_COR_RACA            0  0.000000\n",
            "TP_SEXO                0  0.000000\n",
            "TP_ESCOLA              0  0.000000\n",
            "NU_IDADE               0  0.000000\n",
            "IN_TREINEIRO           0  0.000000\n",
            "IN_BAIXA_VISAO         0  0.000000\n",
            "IN_CEGUEIRA            0  0.000000\n",
            "IN_SURDEZ              0  0.000000\n",
            "IN_DISLEXIA            0  0.000000\n",
            "TP_PRESENCA_LC         0  0.000000\n",
            "IN_SABATISTA           0  0.000000\n",
            "IN_GESTANTE            0  0.000000\n",
            "IN_IDOSO               0  0.000000\n",
            "TP_PRESENCA_CN         0  0.000000\n",
            "TP_PRESENCA_CH         0  0.000000\n",
            "Q047                   0  0.000000\n",
            "TP_LINGUA              0  0.000000\n",
            "Q001                   0  0.000000\n",
            "Q002                   0  0.000000\n",
            "Q006                   0  0.000000\n",
            "Q024                   0  0.000000\n",
            "Q025                   0  0.000000\n",
            "Q026                   0  0.000000\n",
            "CO_UF_RESIDENCIA       0  0.000000\n"
          ],
          "name": "stdout"
        }
      ]
    },
    {
      "cell_type": "markdown",
      "metadata": {
        "id": "08q4BIdb2Mtc",
        "colab_type": "text"
      },
      "source": [
        "Removo as notas 0 dos dados (missing values e 0s)"
      ]
    },
    {
      "cell_type": "code",
      "metadata": {
        "id": "kVFYOFqB1eP5",
        "colab_type": "code",
        "outputId": "063ca0a6-6247-489d-e073-49b90433aa73",
        "colab": {
          "base_uri": "https://localhost:8080/",
          "height": 737
        }
      },
      "source": [
        "df_train = df_train.fillna(0)\n",
        "df_train = df_train[(df_train.NU_NOTA_MT>0)]\n",
        "resume_missing_data(df_train)"
      ],
      "execution_count": 0,
      "outputs": [
        {
          "output_type": "stream",
          "text": [
            "                   Total  Percent\n",
            "NU_NOTA_MT             0      0.0\n",
            "IN_BAIXA_VISAO         0      0.0\n",
            "IN_IDOSO               0      0.0\n",
            "IN_GESTANTE            0      0.0\n",
            "IN_SABATISTA           0      0.0\n",
            "IN_DISCALCULIA         0      0.0\n",
            "IN_DISLEXIA            0      0.0\n",
            "IN_SURDEZ              0      0.0\n",
            "IN_CEGUEIRA            0      0.0\n",
            "IN_TREINEIRO           0      0.0\n",
            "TP_PRESENCA_CH         0      0.0\n",
            "TP_ESCOLA              0      0.0\n",
            "TP_ANO_CONCLUIU        0      0.0\n",
            "TP_ST_CONCLUSAO        0      0.0\n",
            "TP_NACIONALIDADE       0      0.0\n",
            "TP_COR_RACA            0      0.0\n",
            "TP_SEXO                0      0.0\n",
            "NU_IDADE               0      0.0\n",
            "TP_PRESENCA_CN         0      0.0\n",
            "TP_PRESENCA_LC         0      0.0\n",
            "Q047                   0      0.0\n",
            "NU_NOTA_COMP5          0      0.0\n",
            "Q026                   0      0.0\n",
            "Q025                   0      0.0\n",
            "Q024                   0      0.0\n",
            "Q006                   0      0.0\n",
            "Q002                   0      0.0\n",
            "Q001                   0      0.0\n",
            "NU_NOTA_REDACAO        0      0.0\n",
            "NU_NOTA_COMP4          0      0.0\n",
            "NU_NOTA_CN             0      0.0\n",
            "NU_NOTA_COMP3          0      0.0\n",
            "NU_NOTA_COMP2          0      0.0\n",
            "NU_NOTA_COMP1          0      0.0\n",
            "TP_STATUS_REDACAO      0      0.0\n",
            "TP_LINGUA              0      0.0\n",
            "NU_NOTA_LC             0      0.0\n",
            "NU_NOTA_CH             0      0.0\n",
            "CO_UF_RESIDENCIA       0      0.0\n"
          ],
          "name": "stdout"
        }
      ]
    },
    {
      "cell_type": "markdown",
      "metadata": {
        "id": "cKQteCc02ZAI",
        "colab_type": "text"
      },
      "source": [
        "Teremos uma distribuição aparentemente com assimetria positiva"
      ]
    },
    {
      "cell_type": "code",
      "metadata": {
        "id": "kymunnpJ1eP8",
        "colab_type": "code",
        "outputId": "ceca913c-a15f-41d3-d770-098828e6b7ba",
        "colab": {
          "base_uri": "https://localhost:8080/",
          "height": 280
        }
      },
      "source": [
        "df_train['NU_NOTA_MT'].describe()\n",
        "sns.distplot(df_train['NU_NOTA_MT']);"
      ],
      "execution_count": 0,
      "outputs": [
        {
          "output_type": "display_data",
          "data": {
            "image/png": "[encoded data removed]",
            "text/plain": [
              "<Figure size 432x288 with 1 Axes>"
            ]
          },
          "metadata": {
            "tags": [],
            "needs_background": "light"
          }
        }
      ]
    },
    {
      "cell_type": "markdown",
      "metadata": {
        "id": "RbUd6I592pwt",
        "colab_type": "text"
      },
      "source": [
        "Transformo dados de texto em números"
      ]
    },
    {
      "cell_type": "code",
      "metadata": {
        "id": "wAO5cwZc1eP-",
        "colab_type": "code",
        "colab": {}
      },
      "source": [
        "from sklearn.preprocessing import LabelEncoder\n",
        "\n",
        "label_encoder = LabelEncoder()\n",
        "\n",
        "for x in ['TP_SEXO', 'Q001', 'Q002', 'Q006', 'Q024', 'Q025', 'Q026', 'Q047']:\n",
        "    df_train[str(x)] = label_encoder.fit_transform(df_train[str(x)])  \n",
        "    \n",
        "for x in ['TP_SEXO', 'Q001', 'Q002', 'Q006', 'Q024', 'Q025', 'Q026', 'Q047']:\n",
        "    df_test[str(x)] = label_encoder.fit_transform(df_test[str(x)]) \n",
        "    "
      ],
      "execution_count": 0,
      "outputs": []
    },
    {
      "cell_type": "markdown",
      "metadata": {
        "id": "HjQxrfNa2uHg",
        "colab_type": "text"
      },
      "source": [
        "Escolho atributos que serão usados baseado na correlação"
      ]
    },
    {
      "cell_type": "code",
      "metadata": {
        "id": "8ozhDK-b1eQB",
        "colab_type": "code",
        "outputId": "bb900dd7-b68a-4a26-dfe1-cf6a814c89b9",
        "colab": {
          "base_uri": "https://localhost:8080/",
          "height": 737
        }
      },
      "source": [
        "print(df_train.corr()['NU_NOTA_MT'].sort_values())\n",
        "\n",
        "cols = [\n",
        "'Q006',\n",
        "'Q047',\n",
        "'NU_NOTA_CN',\n",
        "'NU_NOTA_CH',\n",
        "'NU_NOTA_LC',\n",
        "'NU_NOTA_REDACAO',\n",
        "'TP_SEXO',\n",
        "'TP_COR_RACA',\n",
        "'CO_UF_RESIDENCIA',\n",
        "'NU_NOTA_MT',\n",
        "'NU_IDADE'\n",
        "]\n",
        "\n",
        "df_train = df_train.loc[:, cols]\n",
        "# df_test = df_test.loc[:, cols]"
      ],
      "execution_count": 0,
      "outputs": [
        {
          "output_type": "stream",
          "text": [
            "TP_LINGUA           -0.204975\n",
            "TP_COR_RACA         -0.161076\n",
            "TP_ST_CONCLUSAO     -0.088442\n",
            "NU_IDADE            -0.061558\n",
            "TP_STATUS_REDACAO   -0.055437\n",
            "TP_NACIONALIDADE    -0.036235\n",
            "IN_TREINEIRO        -0.023216\n",
            "Q026                -0.016767\n",
            "IN_SURDEZ           -0.015524\n",
            "IN_SABATISTA        -0.012309\n",
            "IN_IDOSO            -0.011517\n",
            "IN_GESTANTE         -0.001052\n",
            "IN_BAIXA_VISAO       0.000534\n",
            "IN_DISLEXIA          0.001422\n",
            "IN_DISCALCULIA       0.009881\n",
            "TP_PRESENCA_CN       0.012103\n",
            "TP_PRESENCA_CH       0.012103\n",
            "TP_ANO_CONCLUIU      0.027828\n",
            "TP_ESCOLA            0.070875\n",
            "CO_UF_RESIDENCIA     0.107839\n",
            "Q001                 0.171572\n",
            "TP_SEXO              0.186655\n",
            "Q002                 0.214059\n",
            "Q025                 0.246882\n",
            "NU_NOTA_COMP1        0.298654\n",
            "Q024                 0.325598\n",
            "NU_NOTA_COMP2        0.335449\n",
            "NU_NOTA_COMP4        0.341176\n",
            "NU_NOTA_COMP5        0.344745\n",
            "NU_NOTA_COMP3        0.350752\n",
            "Q047                 0.353296\n",
            "NU_NOTA_REDACAO      0.379523\n",
            "Q006                 0.412122\n",
            "NU_NOTA_LC           0.483159\n",
            "NU_NOTA_CH           0.492731\n",
            "NU_NOTA_CN           0.550531\n",
            "NU_NOTA_MT           1.000000\n",
            "IN_CEGUEIRA               NaN\n",
            "TP_PRESENCA_LC            NaN\n",
            "Name: NU_NOTA_MT, dtype: float64\n"
          ],
          "name": "stdout"
        }
      ]
    },
    {
      "cell_type": "code",
      "metadata": {
        "id": "1RHpoAoZ1eQG",
        "colab_type": "code",
        "outputId": "36b0e048-5e72-41a9-c1ed-af37d32487bb",
        "colab": {
          "base_uri": "https://localhost:8080/",
          "height": 596
        }
      },
      "source": [
        "corr = df_train.corr()\n",
        "ax = plt.subplots(figsize=(11, 8))\n",
        "sns.heatmap(corr,  annot=True, annot_kws={\"size\": 10})"
      ],
      "execution_count": 0,
      "outputs": [
        {
          "output_type": "execute_result",
          "data": {
            "text/plain": [
              "<matplotlib.axes._subplots.AxesSubplot at 0x7febedd4cd68>"
            ]
          },
          "metadata": {
            "tags": []
          },
          "execution_count": 19
        },
        {
          "output_type": "display_data",
          "data": {
            "image/png": "[encoded data removed]",
            "text/plain": [
              "<Figure size 792x576 with 2 Axes>"
            ]
          },
          "metadata": {
            "tags": [],
            "needs_background": "light"
          }
        }
      ]
    },
    {
      "cell_type": "markdown",
      "metadata": {
        "id": "m44tDtsE1eQJ",
        "colab_type": "text"
      },
      "source": [
        "# Treinando o modelo"
      ]
    },
    {
      "cell_type": "markdown",
      "metadata": {
        "id": "LgF3nXjY2_so",
        "colab_type": "text"
      },
      "source": [
        "SandardScaler vai transformar os dados de forma que sua distribuição terá um valor médio 0 e um desvio padrão de 1"
      ]
    },
    {
      "cell_type": "code",
      "metadata": {
        "id": "Qt7_WVip1eQN",
        "colab_type": "code",
        "colab": {}
      },
      "source": [
        "features= df_train.columns.tolist()\n",
        "features.remove('NU_NOTA_MT')\n",
        "\n",
        "y_train = pd.DataFrame(df_train['NU_NOTA_MT'])\n",
        "x_train = df_train[features]\n",
        "x_test = df_test[features].fillna(0)\n",
        "\n",
        "from sklearn.preprocessing import StandardScaler\n",
        "sc = StandardScaler()  \n",
        "x_train = sc.fit_transform(x_train)  \n",
        "x_test = sc.transform(x_test)"
      ],
      "execution_count": 0,
      "outputs": []
    },
    {
      "cell_type": "markdown",
      "metadata": {
        "id": "GvqaITDP3KzD",
        "colab_type": "text"
      },
      "source": [
        "Regressão Linear"
      ]
    },
    {
      "cell_type": "code",
      "metadata": {
        "id": "ouHwB_Pl1eQP",
        "colab_type": "code",
        "outputId": "e1f049be-26a3-4b33-a273-3bba375bd0b7",
        "colab": {
          "base_uri": "https://localhost:8080/",
          "height": 35
        }
      },
      "source": [
        "from sklearn import datasets, linear_model\n",
        "\n",
        "# Create linear regression object\n",
        "regr = linear_model.LinearRegression()\n",
        "\n",
        "# Train the model \n",
        "regr.fit(x_train, df_train['NU_NOTA_MT'])\n",
        "\n",
        "# Make predictions \n",
        "y_pred_train = regr.predict(x_train)\n",
        "# y_pred_test = regr.predict(x_test)\n",
        "\n",
        "#RMSE\n",
        "from sklearn.metrics import mean_squared_error\n",
        "rmse = np.sqrt(mean_squared_error(y_train, y_pred_train))\n",
        "print('RMSE ', rmse)"
      ],
      "execution_count": 0,
      "outputs": [
        {
          "output_type": "stream",
          "text": [
            "RMSE  75.40553062129578\n"
          ],
          "name": "stdout"
        }
      ]
    },
    {
      "cell_type": "markdown",
      "metadata": {
        "id": "62eKJGIc3Qvz",
        "colab_type": "text"
      },
      "source": [
        "Regressão Polinomial"
      ]
    },
    {
      "cell_type": "code",
      "metadata": {
        "id": "B9rP80qS1eQR",
        "colab_type": "code",
        "outputId": "aa39800e-d52c-43df-c450-2280ddf21e75",
        "colab": {
          "base_uri": "https://localhost:8080/",
          "height": 35
        }
      },
      "source": [
        "from sklearn.preprocessing import PolynomialFeatures\n",
        "from sklearn.pipeline import make_pipeline\n",
        "from sklearn.linear_model import LinearRegression\n",
        "\n",
        "polynomial_features= PolynomialFeatures(degree=2)\n",
        "x_poly = polynomial_features.fit_transform(x_train)\n",
        "x_poly_test = polynomial_features.fit_transform(x_test)\n",
        "\n",
        "model = LinearRegression()\n",
        "model.fit(x_poly, y_train)\n",
        "\n",
        "y_poly_pred = model.predict(x_poly)\n",
        "y_pred_test = model.predict(x_poly_test)\n",
        "\n",
        "#RMSE\n",
        "from sklearn.metrics import mean_squared_error\n",
        "rmse = np.sqrt(mean_squared_error(y_train, y_poly_pred))\n",
        "print('RMSE ', rmse)"
      ],
      "execution_count": 0,
      "outputs": [
        {
          "output_type": "stream",
          "text": [
            "RMSE  71.67713681251492\n"
          ],
          "name": "stdout"
        }
      ]
    },
    {
      "cell_type": "code",
      "metadata": {
        "id": "N_gtirRE1eQT",
        "colab_type": "code",
        "colab": {}
      },
      "source": [
        "for index, row  in df_test.iterrows():\n",
        "    if row['TP_PRESENCA_LC']==0:\n",
        "        y_pred_test[index] = 0\n",
        "        \n",
        "answer=pd.DataFrame()\n",
        "answer['NU_INSCRICAO'] = df_test['NU_INSCRICAO']\n",
        "answer['NU_NOTA_MT'] = y_pred_test \n",
        "answer\n",
        "answer.to_csv(r'answer.csv', index = False)"
      ],
      "execution_count": 0,
      "outputs": []
    },
    {
      "cell_type": "markdown",
      "metadata": {
        "id": "KDJjnJ6a1eQV",
        "colab_type": "text"
      },
      "source": [
        "RandomForest"
      ]
    },
    {
      "cell_type": "code",
      "metadata": {
        "id": "KiHSMNTM1eQV",
        "colab_type": "code",
        "colab": {}
      },
      "source": [
        "from sklearn.ensemble import RandomForestRegressor\n",
        "regressor = RandomForestRegressor( \n",
        "           criterion='mae', \n",
        "           max_depth=10,\n",
        "           max_leaf_nodes=None,\n",
        "           max_features= 'sqrt',\n",
        "           min_impurity_split=None,\n",
        "           min_samples_leaf=5,\n",
        "           min_samples_split=2,\n",
        "           min_weight_fraction_leaf=0.0,\n",
        "           n_estimators= 500,\n",
        "           n_jobs=-1,\n",
        "           random_state=0,\n",
        "           verbose=0,\n",
        "           bootstrap= True,\n",
        "           warm_start=False\n",
        ")\n",
        "\n",
        "regressor.fit(x_train, y_train)\n",
        "\n",
        "# y_pred_test = regressor.predict(x_test)\n",
        "y_pred_train = regressor.predict(x_train)"
      ],
      "execution_count": 0,
      "outputs": []
    },
    {
      "cell_type": "markdown",
      "metadata": {
        "id": "RTm_CYb53X_L",
        "colab_type": "text"
      },
      "source": [
        "Verifico quais atributos foram mais relevantes pro modelo"
      ]
    },
    {
      "cell_type": "code",
      "metadata": {
        "id": "Jl2AEC211eQX",
        "colab_type": "code",
        "outputId": "6ad2d8b8-9987-425e-d502-428023cb55a1",
        "colab": {}
      },
      "source": [
        "print(df_train.columns)\n",
        "regressor.feature_importances_\n",
        "print(pd.concat([pd.DataFrame(df_train.columns), pd.DataFrame(regressor.feature_importances_)], axis=1))\n",
        "\n",
        "importances = pd.Series(data=regressor.feature_importances_, index=features)\n",
        "plt.subplots(figsize=(15, 10))\n",
        "sns.barplot(x=importances, y=importances.index, orient='h').set_title('Importância de cada feature')"
      ],
      "execution_count": 0,
      "outputs": [
        {
          "output_type": "stream",
          "text": [
            "Index(['Q006', 'Q047', 'NU_NOTA_CN', 'NU_NOTA_CH', 'NU_NOTA_LC',\n",
            "       'NU_NOTA_REDACAO', 'TP_SEXO', 'TP_COR_RACA', 'CO_UF_RESIDENCIA',\n",
            "       'NU_NOTA_MT', 'NU_IDADE'],\n",
            "      dtype='object')\n",
            "                   0         0\n",
            "0               Q006  0.060782\n",
            "1               Q047  0.036741\n",
            "2         NU_NOTA_CN  0.314762\n",
            "3         NU_NOTA_CH  0.246621\n",
            "4         NU_NOTA_LC  0.167594\n",
            "5    NU_NOTA_REDACAO  0.066833\n",
            "6            TP_SEXO  0.027780\n",
            "7        TP_COR_RACA  0.013620\n",
            "8   CO_UF_RESIDENCIA  0.034732\n",
            "9         NU_NOTA_MT  0.030535\n",
            "10          NU_IDADE       NaN\n"
          ],
          "name": "stdout"
        },
        {
          "output_type": "execute_result",
          "data": {
            "text/plain": [
              "Text(0.5, 1.0, 'Importância de cada feature')"
            ]
          },
          "metadata": {
            "tags": []
          },
          "execution_count": 141
        },
        {
          "output_type": "display_data",
          "data": {
            "image/png": "[encoded data removed]",
            "text/plain": [
              "<Figure size 1080x720 with 1 Axes>"
            ]
          },
          "metadata": {
            "tags": [],
            "needs_background": "light"
          }
        }
      ]
    },
    {
      "cell_type": "markdown",
      "metadata": {
        "id": "jGttC0F93gf_",
        "colab_type": "text"
      },
      "source": [
        "Nesse caso, treinei o modelo com todos os atributos para ver quais tinham mais importância pro modelo"
      ]
    },
    {
      "cell_type": "code",
      "metadata": {
        "id": "3_lhqCqA1eQb",
        "colab_type": "code",
        "outputId": "8d8dc666-3fa2-4c02-9dab-cfdbff7f2359",
        "colab": {}
      },
      "source": [
        "print(df_train.columns)\n",
        "regressor.feature_importances_\n",
        "# print(pd.concat([pd.DataFrame(df_train.columns), pd.DataFrame(regressor.feature_importances_)], axis=1))\n",
        "print(pd.concat([pd.DataFrame(df_train.columns), pd.DataFrame(regressor.feature_importances_)], axis=1))\n",
        "\n",
        "importances = pd.Series(data=regressor.feature_importances_, index=features)\n",
        "plt.subplots(figsize=(15, 10))\n",
        "sns.barplot(x=importances, y=importances.index, orient='h').set_title('Importância de cada feature')"
      ],
      "execution_count": 0,
      "outputs": [
        {
          "output_type": "stream",
          "text": [
            "Index(['CO_UF_RESIDENCIA', 'NU_IDADE', 'TP_SEXO', 'TP_COR_RACA',\n",
            "       'TP_NACIONALIDADE', 'TP_ST_CONCLUSAO', 'TP_ANO_CONCLUIU', 'TP_ESCOLA',\n",
            "       'IN_TREINEIRO', 'IN_BAIXA_VISAO', 'IN_CEGUEIRA', 'IN_SURDEZ',\n",
            "       'IN_DISLEXIA', 'IN_DISCALCULIA', 'IN_SABATISTA', 'IN_GESTANTE',\n",
            "       'IN_IDOSO', 'TP_PRESENCA_CN', 'TP_PRESENCA_CH', 'TP_PRESENCA_LC',\n",
            "       'NU_NOTA_CN', 'NU_NOTA_CH', 'NU_NOTA_LC', 'TP_LINGUA',\n",
            "       'TP_STATUS_REDACAO', 'NU_NOTA_COMP1', 'NU_NOTA_COMP2', 'NU_NOTA_COMP3',\n",
            "       'NU_NOTA_COMP4', 'NU_NOTA_COMP5', 'NU_NOTA_REDACAO', 'Q001', 'Q002',\n",
            "       'Q006', 'Q024', 'Q025', 'Q026', 'Q047', 'NU_NOTA_MT'],\n",
            "      dtype='object')\n",
            "                    0         0\n",
            "0    CO_UF_RESIDENCIA  0.021283\n",
            "1            NU_IDADE  0.015176\n",
            "2             TP_SEXO  0.020888\n",
            "3         TP_COR_RACA  0.007047\n",
            "4    TP_NACIONALIDADE  0.001376\n",
            "5     TP_ST_CONCLUSAO  0.002762\n",
            "6     TP_ANO_CONCLUIU  0.007054\n",
            "7           TP_ESCOLA  0.004533\n",
            "8        IN_TREINEIRO  0.001011\n",
            "9      IN_BAIXA_VISAO  0.000030\n",
            "10        IN_CEGUEIRA  0.000000\n",
            "11          IN_SURDEZ  0.000000\n",
            "12        IN_DISLEXIA  0.000011\n",
            "13     IN_DISCALCULIA  0.000085\n",
            "14       IN_SABATISTA  0.000727\n",
            "15        IN_GESTANTE  0.000040\n",
            "16           IN_IDOSO  0.000000\n",
            "17     TP_PRESENCA_CN  0.000095\n",
            "18     TP_PRESENCA_CH  0.000122\n",
            "19     TP_PRESENCA_LC  0.000000\n",
            "20         NU_NOTA_CN  0.541824\n",
            "21         NU_NOTA_CH  0.157868\n",
            "22         NU_NOTA_LC  0.076101\n",
            "23          TP_LINGUA  0.002289\n",
            "24  TP_STATUS_REDACAO  0.000571\n",
            "25      NU_NOTA_COMP1  0.006060\n",
            "26      NU_NOTA_COMP2  0.006768\n",
            "27      NU_NOTA_COMP3  0.006476\n",
            "28      NU_NOTA_COMP4  0.006842\n",
            "29      NU_NOTA_COMP5  0.010033\n",
            "30    NU_NOTA_REDACAO  0.015149\n",
            "31               Q001  0.012902\n",
            "32               Q002  0.015060\n",
            "33               Q006  0.034148\n",
            "34               Q024  0.008629\n",
            "35               Q025  0.003290\n",
            "36               Q026  0.004142\n",
            "37               Q047  0.009607\n",
            "38         NU_NOTA_MT       NaN\n"
          ],
          "name": "stdout"
        },
        {
          "output_type": "execute_result",
          "data": {
            "text/plain": [
              "Text(0.5, 1.0, 'Importância de cada feature')"
            ]
          },
          "metadata": {
            "tags": []
          },
          "execution_count": 67
        },
        {
          "output_type": "display_data",
          "data": {
            "image/png": "[encoded data removed]",
            "text/plain": [
              "<Figure size 1080x720 with 1 Axes>"
            ]
          },
          "metadata": {
            "tags": [],
            "needs_background": "light"
          }
        }
      ]
    },
    {
      "cell_type": "code",
      "metadata": {
        "id": "ocyH_3ww1eQf",
        "colab_type": "code",
        "outputId": "72403a9f-d83a-4491-c8cd-a574c23922dc",
        "colab": {}
      },
      "source": [
        "#RMSE\n",
        "from sklearn.metrics import mean_squared_error\n",
        "rmse = np.sqrt(mean_squared_error(y_train, y_pred_train))\n",
        "print('RMSE ', rmse)"
      ],
      "execution_count": 0,
      "outputs": [
        {
          "output_type": "stream",
          "text": [
            "RMSE  64.39398911316081\n"
          ],
          "name": "stdout"
        }
      ]
    },
    {
      "cell_type": "markdown",
      "metadata": {
        "id": "g-OwdJae3utB",
        "colab_type": "text"
      },
      "source": [
        "Para salvar os dados verifica-se que se o aluno faltou na prova de Linguagens e Códigos ele também faltou na prova de Matemática e portanto sua nota é 0"
      ]
    },
    {
      "cell_type": "code",
      "metadata": {
        "id": "GF8ikhQr1eQh",
        "colab_type": "code",
        "colab": {}
      },
      "source": [
        "for index, row  in df_test.iterrows():\n",
        "    if row['TP_PRESENCA_LC']==0:\n",
        "        y_pred_test[index] = 0\n",
        "        \n",
        "answer=pd.DataFrame()\n",
        "answer['NU_INSCRICAO'] = df_test['NU_INSCRICAO']\n",
        "answer['NU_NOTA_MT'] = y_pred_test \n",
        "answer\n",
        "answer.to_csv(r'answer.csv', index = False)"
      ],
      "execution_count": 0,
      "outputs": []
    },
    {
      "cell_type": "markdown",
      "metadata": {
        "id": "aYA0m_bJ4I5p",
        "colab_type": "text"
      },
      "source": [
        "O Grid vai procurar os melhores hiperparâmetros pro modelo de Random Forest"
      ]
    },
    {
      "cell_type": "code",
      "metadata": {
        "id": "9bI4O_111eQj",
        "colab_type": "code",
        "outputId": "a9882f59-ed8f-410d-e8a6-b81b88ac7219",
        "colab": {}
      },
      "source": [
        "from sklearn.model_selection import cross_val_score, GridSearchCV\n",
        "from sklearn.ensemble import RandomForestRegressor\n",
        "from sklearn.preprocessing import MinMaxScaler\n",
        "\n",
        "# Perform Grid-Search\n",
        "gsc = GridSearchCV(\n",
        "    estimator=RandomForestRegressor(),\n",
        "    param_grid={\n",
        "            'n_estimators': [100, 300, 500],\n",
        "             'max_features': ['auto','sqrt'],\n",
        "             'bootstrap': [True, False],\n",
        "             'max_depth': [6, 10, 15, 20],\n",
        "             'min_samples_leaf': [5,7,10]\n",
        "    },\n",
        "    cv=5, scoring='neg_mean_squared_error', verbose=0, n_jobs=-1)\n",
        "\n",
        "grid_result = gsc.fit(x_train, y_train)\n",
        "best_params = grid_result.best_params_\n",
        "best_params"
      ],
      "execution_count": 0,
      "outputs": [
        {
          "output_type": "execute_result",
          "data": {
            "text/plain": [
              "{'bootstrap': True,\n",
              " 'max_depth': 10,\n",
              " 'max_features': 'sqrt',\n",
              " 'min_samples_leaf': 5,\n",
              " 'n_estimators': 300}"
            ]
          },
          "metadata": {
            "tags": []
          },
          "execution_count": 93
        }
      ]
    },
    {
      "cell_type": "code",
      "metadata": {
        "id": "z2TlLXzI1eQl",
        "colab_type": "code",
        "colab": {}
      },
      "source": [
        ""
      ],
      "execution_count": 0,
      "outputs": []
    },
    {
      "cell_type": "markdown",
      "metadata": {
        "id": "Bt9mhLJt1eQu",
        "colab_type": "text"
      },
      "source": [
        "# Rede Neural"
      ]
    },
    {
      "cell_type": "markdown",
      "metadata": {
        "id": "GFEjCrtVicBd",
        "colab_type": "text"
      },
      "source": [
        "Teste com redes neuras"
      ]
    },
    {
      "cell_type": "code",
      "metadata": {
        "id": "DIYsWzoZ1eQx",
        "colab_type": "code",
        "outputId": "31381668-8fc5-48a5-97f5-3f6783428e1a",
        "colab": {}
      },
      "source": [
        "# first neural network with keras tutorial\n",
        "from numpy import loadtxt\n",
        "from keras.models import Sequential\n",
        "from keras.layers import Dense\n",
        "\n",
        "NN_model = Sequential()\n",
        "\n",
        "# The Input Layer :\n",
        "NN_model.add(Dense(128, kernel_initializer='normal',input_dim = x_train.shape[1], activation='relu'))\n",
        "\n",
        "# The Hidden Layers :\n",
        "NN_model.add(Dense(256, kernel_initializer='normal',activation='relu'))\n",
        "NN_model.add(Dense(256, kernel_initializer='normal',activation='relu'))\n",
        "NN_model.add(Dense(256, kernel_initializer='normal',activation='relu'))\n",
        "\n",
        "# The Output Layer :\n",
        "NN_model.add(Dense(1, kernel_initializer='normal',activation='linear'))\n",
        "\n",
        "\n",
        "# Compile the network :\n",
        "NN_model.compile(loss='mean_absolute_error', optimizer='adam', metrics=['mean_absolute_error'])\n",
        "NN_model.summary()"
      ],
      "execution_count": 0,
      "outputs": [
        {
          "output_type": "stream",
          "text": [
            "Model: \"sequential_3\"\n",
            "_________________________________________________________________\n",
            "Layer (type)                 Output Shape              Param #   \n",
            "=================================================================\n",
            "dense_11 (Dense)             (None, 128)               8064      \n",
            "_________________________________________________________________\n",
            "dense_12 (Dense)             (None, 256)               33024     \n",
            "_________________________________________________________________\n",
            "dense_13 (Dense)             (None, 256)               65792     \n",
            "_________________________________________________________________\n",
            "dense_14 (Dense)             (None, 256)               65792     \n",
            "_________________________________________________________________\n",
            "dense_15 (Dense)             (None, 1)                 257       \n",
            "=================================================================\n",
            "Total params: 172,929\n",
            "Trainable params: 172,929\n",
            "Non-trainable params: 0\n",
            "_________________________________________________________________\n"
          ],
          "name": "stdout"
        }
      ]
    },
    {
      "cell_type": "code",
      "metadata": {
        "id": "5rH4ioQL1eQz",
        "colab_type": "code",
        "colab": {}
      },
      "source": [
        "NN_model.fit(x_train, y_train, epochs=500, batch_size=32, validation_split = 0.2)"
      ],
      "execution_count": 0,
      "outputs": []
    },
    {
      "cell_type": "code",
      "metadata": {
        "id": "VG5eqAs11eQ0",
        "colab_type": "code",
        "outputId": "587d0978-62e2-46ad-f196-eb6d61fc842a",
        "colab": {}
      },
      "source": [
        "y_pred_train = NN_model.predict(x_train)\n",
        "# y_pred_test = NN_model.predict(x_test)\n",
        "\n",
        "#RMSE\n",
        "from sklearn.metrics import mean_squared_error\n",
        "rmse = np.sqrt(mean_squared_error(y_train, y_pred_train))\n",
        "print('RMSE ', rmse)\n",
        "\n",
        "for index, row  in df_test.iterrows():\n",
        "    if row['TP_PRESENCA_LC']==0:\n",
        "        y_pred_test[index] = 0\n",
        "        \n",
        "answer=pd.DataFrame()\n",
        "answer['NU_INSCRICAO'] = df_test['NU_INSCRICAO']\n",
        "answer['NU_NOTA_MT'] = y_pred_test \n",
        "answer\n",
        "answer.to_csv(r'answer.csv', index = False)"
      ],
      "execution_count": 0,
      "outputs": [
        {
          "output_type": "stream",
          "text": [
            "RMSE  45.74406254074982\n"
          ],
          "name": "stdout"
        }
      ]
    }
  ]
}