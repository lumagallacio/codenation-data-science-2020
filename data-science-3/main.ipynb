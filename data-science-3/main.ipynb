{
 "cells": [
  {
   "cell_type": "markdown",
   "metadata": {},
   "source": [
    "# Desafio 5\n",
    "\n",
    "Neste desafio, vamos praticar sobre redução de dimensionalidade com PCA e seleção de variáveis com RFE. Utilizaremos o _data set_ [Fifa 2019](https://www.kaggle.com/karangadiya/fifa19), contendo originalmente 89 variáveis de mais de 18 mil jogadores do _game_ FIFA 2019.\n",
    "\n",
    "> Obs.: Por favor, não modifique o nome das funções de resposta."
   ]
  },
  {
   "cell_type": "markdown",
   "metadata": {},
   "source": [
    "## _Setup_ geral"
   ]
  },
  {
   "cell_type": "code",
   "execution_count": 126,
   "metadata": {},
   "outputs": [],
   "source": [
    "from math import sqrt\n",
    "\n",
    "import pandas as pd\n",
    "import matplotlib.pyplot as plt\n",
    "import numpy as np\n",
    "import scipy.stats as sct\n",
    "import seaborn as sns\n",
    "import statsmodels.api as sm\n",
    "import statsmodels.stats as st\n",
    "from sklearn.decomposition import PCA\n",
    "\n",
    "from loguru import logger"
   ]
  },
  {
   "cell_type": "code",
   "execution_count": 127,
   "metadata": {},
   "outputs": [],
   "source": [
    "# # Algumas configurações para o matplotlib.\n",
    "# %matplotlib inline\n",
    "\n",
    "# from IPython.core.pylabtools import figsize\n",
    "\n",
    "\n",
    "# figsize(12, 8)\n",
    "\n",
    "# sns.set()"
   ]
  },
  {
   "cell_type": "markdown",
   "metadata": {
    "scrolled": false
   },
   "source": [
    "fifa = pd.read_csv(\"fifa.csv\")"
   ]
  },
  {
   "cell_type": "code",
   "execution_count": 128,
   "metadata": {},
   "outputs": [],
   "source": [
    "fifa = pd.read_csv(\"fifa.csv\")"
   ]
  },
  {
   "cell_type": "code",
   "execution_count": 129,
   "metadata": {},
   "outputs": [],
   "source": [
    "columns_to_drop = [\"Unnamed: 0\", \"ID\", \"Name\", \"Photo\", \"Nationality\", \"Flag\",\n",
    "                   \"Club\", \"Club Logo\", \"Value\", \"Wage\", \"Special\", \"Preferred Foot\",\n",
    "                   \"International Reputation\", \"Weak Foot\", \"Skill Moves\", \"Work Rate\",\n",
    "                   \"Body Type\", \"Real Face\", \"Position\", \"Jersey Number\", \"Joined\",\n",
    "                   \"Loaned From\", \"Contract Valid Until\", \"Height\", \"Weight\", \"LS\",\n",
    "                   \"ST\", \"RS\", \"LW\", \"LF\", \"CF\", \"RF\", \"RW\", \"LAM\", \"CAM\", \"RAM\", \"LM\",\n",
    "                   \"LCM\", \"CM\", \"RCM\", \"RM\", \"LWB\", \"LDM\", \"CDM\", \"RDM\", \"RWB\", \"LB\", \"LCB\",\n",
    "                   \"CB\", \"RCB\", \"RB\", \"Release Clause\"\n",
    "]\n",
    "\n",
    "try:\n",
    "    fifa.drop(columns_to_drop, axis=1, inplace=True)\n",
    "except KeyError:\n",
    "    logger.warning(f\"Columns already dropped\")"
   ]
  },
  {
   "cell_type": "markdown",
   "metadata": {},
   "source": [
    "## Inicia sua análise a partir daqui"
   ]
  },
  {
   "cell_type": "code",
   "execution_count": 130,
   "metadata": {},
   "outputs": [
    {
     "output_type": "execute_result",
     "data": {
      "text/plain": "                Age       Overall     Potential      Crossing     Finishing  \\\ncount  18207.000000  18207.000000  18207.000000  18159.000000  18159.000000   \nmean      25.122206     66.238699     71.307299     49.734181     45.550911   \nstd        4.669943      6.908930      6.136496     18.364524     19.525820   \nmin       16.000000     46.000000     48.000000      5.000000      2.000000   \n25%       21.000000     62.000000     67.000000     38.000000     30.000000   \n50%       25.000000     66.000000     71.000000     54.000000     49.000000   \n75%       28.000000     71.000000     75.000000     64.000000     62.000000   \nmax       45.000000     94.000000     95.000000     93.000000     95.000000   \n\n       HeadingAccuracy  ShortPassing       Volleys     Dribbling  \\\ncount     18159.000000  18159.000000  18159.000000  18159.000000   \nmean         52.298144     58.686712     42.909026     55.371001   \nstd          17.379909     14.699495     17.694408     18.910371   \nmin           4.000000      7.000000      4.000000      4.000000   \n25%          44.000000     54.000000     30.000000     49.000000   \n50%          56.000000     62.000000     44.000000     61.000000   \n75%          64.000000     68.000000     57.000000     68.000000   \nmax          94.000000     93.000000     90.000000     97.000000   \n\n              Curve  ...     Penalties     Composure       Marking  \\\ncount  18159.000000  ...  18159.000000  18159.000000  18159.000000   \nmean      47.170824  ...     48.548598     58.648274     47.281623   \nstd       18.395264  ...     15.704053     11.436133     19.904397   \nmin        6.000000  ...      5.000000      3.000000      3.000000   \n25%       34.000000  ...     39.000000     51.000000     30.000000   \n50%       48.000000  ...     49.000000     60.000000     53.000000   \n75%       62.000000  ...     60.000000     67.000000     64.000000   \nmax       94.000000  ...     92.000000     96.000000     94.000000   \n\n       StandingTackle  SlidingTackle      GKDiving    GKHandling  \\\ncount    18159.000000   18159.000000  18159.000000  18159.000000   \nmean        47.697836      45.661435     16.616223     16.391596   \nstd         21.664004      21.289135     17.695349     16.906900   \nmin          2.000000       3.000000      1.000000      1.000000   \n25%         27.000000      24.000000      8.000000      8.000000   \n50%         55.000000      52.000000     11.000000     11.000000   \n75%         66.000000      64.000000     14.000000     14.000000   \nmax         93.000000      91.000000     90.000000     92.000000   \n\n          GKKicking  GKPositioning    GKReflexes  \ncount  18159.000000   18159.000000  18159.000000  \nmean      16.232061      16.388898     16.710887  \nstd       16.502864      17.034669     17.955119  \nmin        1.000000       1.000000      1.000000  \n25%        8.000000       8.000000      8.000000  \n50%       11.000000      11.000000     11.000000  \n75%       14.000000      14.000000     14.000000  \nmax       91.000000      90.000000     94.000000  \n\n[8 rows x 37 columns]",
      "text/html": "<div>\n<style scoped>\n    .dataframe tbody tr th:only-of-type {\n        vertical-align: middle;\n    }\n\n    .dataframe tbody tr th {\n        vertical-align: top;\n    }\n\n    .dataframe thead th {\n        text-align: right;\n    }\n</style>\n<table border=\"1\" class=\"dataframe\">\n  <thead>\n    <tr style=\"text-align: right;\">\n      <th></th>\n      <th>Age</th>\n      <th>Overall</th>\n      <th>Potential</th>\n      <th>Crossing</th>\n      <th>Finishing</th>\n      <th>HeadingAccuracy</th>\n      <th>ShortPassing</th>\n      <th>Volleys</th>\n      <th>Dribbling</th>\n      <th>Curve</th>\n      <th>...</th>\n      <th>Penalties</th>\n      <th>Composure</th>\n      <th>Marking</th>\n      <th>StandingTackle</th>\n      <th>SlidingTackle</th>\n      <th>GKDiving</th>\n      <th>GKHandling</th>\n      <th>GKKicking</th>\n      <th>GKPositioning</th>\n      <th>GKReflexes</th>\n    </tr>\n  </thead>\n  <tbody>\n    <tr>\n      <th>count</th>\n      <td>18207.000000</td>\n      <td>18207.000000</td>\n      <td>18207.000000</td>\n      <td>18159.000000</td>\n      <td>18159.000000</td>\n      <td>18159.000000</td>\n      <td>18159.000000</td>\n      <td>18159.000000</td>\n      <td>18159.000000</td>\n      <td>18159.000000</td>\n      <td>...</td>\n      <td>18159.000000</td>\n      <td>18159.000000</td>\n      <td>18159.000000</td>\n      <td>18159.000000</td>\n      <td>18159.000000</td>\n      <td>18159.000000</td>\n      <td>18159.000000</td>\n      <td>18159.000000</td>\n      <td>18159.000000</td>\n      <td>18159.000000</td>\n    </tr>\n    <tr>\n      <th>mean</th>\n      <td>25.122206</td>\n      <td>66.238699</td>\n      <td>71.307299</td>\n      <td>49.734181</td>\n      <td>45.550911</td>\n      <td>52.298144</td>\n      <td>58.686712</td>\n      <td>42.909026</td>\n      <td>55.371001</td>\n      <td>47.170824</td>\n      <td>...</td>\n      <td>48.548598</td>\n      <td>58.648274</td>\n      <td>47.281623</td>\n      <td>47.697836</td>\n      <td>45.661435</td>\n      <td>16.616223</td>\n      <td>16.391596</td>\n      <td>16.232061</td>\n      <td>16.388898</td>\n      <td>16.710887</td>\n    </tr>\n    <tr>\n      <th>std</th>\n      <td>4.669943</td>\n      <td>6.908930</td>\n      <td>6.136496</td>\n      <td>18.364524</td>\n      <td>19.525820</td>\n      <td>17.379909</td>\n      <td>14.699495</td>\n      <td>17.694408</td>\n      <td>18.910371</td>\n      <td>18.395264</td>\n      <td>...</td>\n      <td>15.704053</td>\n      <td>11.436133</td>\n      <td>19.904397</td>\n      <td>21.664004</td>\n      <td>21.289135</td>\n      <td>17.695349</td>\n      <td>16.906900</td>\n      <td>16.502864</td>\n      <td>17.034669</td>\n      <td>17.955119</td>\n    </tr>\n    <tr>\n      <th>min</th>\n      <td>16.000000</td>\n      <td>46.000000</td>\n      <td>48.000000</td>\n      <td>5.000000</td>\n      <td>2.000000</td>\n      <td>4.000000</td>\n      <td>7.000000</td>\n      <td>4.000000</td>\n      <td>4.000000</td>\n      <td>6.000000</td>\n      <td>...</td>\n      <td>5.000000</td>\n      <td>3.000000</td>\n      <td>3.000000</td>\n      <td>2.000000</td>\n      <td>3.000000</td>\n      <td>1.000000</td>\n      <td>1.000000</td>\n      <td>1.000000</td>\n      <td>1.000000</td>\n      <td>1.000000</td>\n    </tr>\n    <tr>\n      <th>25%</th>\n      <td>21.000000</td>\n      <td>62.000000</td>\n      <td>67.000000</td>\n      <td>38.000000</td>\n      <td>30.000000</td>\n      <td>44.000000</td>\n      <td>54.000000</td>\n      <td>30.000000</td>\n      <td>49.000000</td>\n      <td>34.000000</td>\n      <td>...</td>\n      <td>39.000000</td>\n      <td>51.000000</td>\n      <td>30.000000</td>\n      <td>27.000000</td>\n      <td>24.000000</td>\n      <td>8.000000</td>\n      <td>8.000000</td>\n      <td>8.000000</td>\n      <td>8.000000</td>\n      <td>8.000000</td>\n    </tr>\n    <tr>\n      <th>50%</th>\n      <td>25.000000</td>\n      <td>66.000000</td>\n      <td>71.000000</td>\n      <td>54.000000</td>\n      <td>49.000000</td>\n      <td>56.000000</td>\n      <td>62.000000</td>\n      <td>44.000000</td>\n      <td>61.000000</td>\n      <td>48.000000</td>\n      <td>...</td>\n      <td>49.000000</td>\n      <td>60.000000</td>\n      <td>53.000000</td>\n      <td>55.000000</td>\n      <td>52.000000</td>\n      <td>11.000000</td>\n      <td>11.000000</td>\n      <td>11.000000</td>\n      <td>11.000000</td>\n      <td>11.000000</td>\n    </tr>\n    <tr>\n      <th>75%</th>\n      <td>28.000000</td>\n      <td>71.000000</td>\n      <td>75.000000</td>\n      <td>64.000000</td>\n      <td>62.000000</td>\n      <td>64.000000</td>\n      <td>68.000000</td>\n      <td>57.000000</td>\n      <td>68.000000</td>\n      <td>62.000000</td>\n      <td>...</td>\n      <td>60.000000</td>\n      <td>67.000000</td>\n      <td>64.000000</td>\n      <td>66.000000</td>\n      <td>64.000000</td>\n      <td>14.000000</td>\n      <td>14.000000</td>\n      <td>14.000000</td>\n      <td>14.000000</td>\n      <td>14.000000</td>\n    </tr>\n    <tr>\n      <th>max</th>\n      <td>45.000000</td>\n      <td>94.000000</td>\n      <td>95.000000</td>\n      <td>93.000000</td>\n      <td>95.000000</td>\n      <td>94.000000</td>\n      <td>93.000000</td>\n      <td>90.000000</td>\n      <td>97.000000</td>\n      <td>94.000000</td>\n      <td>...</td>\n      <td>92.000000</td>\n      <td>96.000000</td>\n      <td>94.000000</td>\n      <td>93.000000</td>\n      <td>91.000000</td>\n      <td>90.000000</td>\n      <td>92.000000</td>\n      <td>91.000000</td>\n      <td>90.000000</td>\n      <td>94.000000</td>\n    </tr>\n  </tbody>\n</table>\n<p>8 rows × 37 columns</p>\n</div>"
     },
     "metadata": {},
     "execution_count": 130
    }
   ],
   "source": [
    "fifa.describe()"
   ]
  },
  {
   "cell_type": "code",
   "execution_count": 131,
   "metadata": {},
   "outputs": [
    {
     "output_type": "execute_result",
     "data": {
      "text/plain": "Age                  int64\nOverall              int64\nPotential            int64\nCrossing           float64\nFinishing          float64\nHeadingAccuracy    float64\nShortPassing       float64\nVolleys            float64\nDribbling          float64\nCurve              float64\nFKAccuracy         float64\nLongPassing        float64\nBallControl        float64\nAcceleration       float64\nSprintSpeed        float64\nAgility            float64\nReactions          float64\nBalance            float64\nShotPower          float64\nJumping            float64\nStamina            float64\nStrength           float64\nLongShots          float64\nAggression         float64\nInterceptions      float64\nPositioning        float64\nVision             float64\nPenalties          float64\nComposure          float64\nMarking            float64\nStandingTackle     float64\nSlidingTackle      float64\nGKDiving           float64\nGKHandling         float64\nGKKicking          float64\nGKPositioning      float64\nGKReflexes         float64\ndtype: object"
     },
     "metadata": {},
     "execution_count": 131
    }
   ],
   "source": [
    "fifa.dtypes"
   ]
  },
  {
   "cell_type": "code",
   "execution_count": 132,
   "metadata": {},
   "outputs": [
    {
     "output_type": "execute_result",
     "data": {
      "text/plain": "                         colunas     tipo  missing   size  unicos  percentual\nAge                          Age    int64        0  18207      29     0.00000\nOverall                  Overall    int64        0  18207      48     0.00000\nPotential              Potential    int64        0  18207      47     0.00000\nCrossing                Crossing  float64       48  18207      89     0.00264\nFinishing              Finishing  float64       48  18207      93     0.00264\nHeadingAccuracy  HeadingAccuracy  float64       48  18207      91     0.00264\nShortPassing        ShortPassing  float64       48  18207      85     0.00264\nVolleys                  Volleys  float64       48  18207      87     0.00264\nDribbling              Dribbling  float64       48  18207      94     0.00264\nCurve                      Curve  float64       48  18207      89     0.00264\nFKAccuracy            FKAccuracy  float64       48  18207      90     0.00264\nLongPassing          LongPassing  float64       48  18207      84     0.00264\nBallControl          BallControl  float64       48  18207      90     0.00264\nAcceleration        Acceleration  float64       48  18207      86     0.00264\nSprintSpeed          SprintSpeed  float64       48  18207      85     0.00264\nAgility                  Agility  float64       48  18207      81     0.00264\nReactions              Reactions  float64       48  18207      68     0.00264\nBalance                  Balance  float64       48  18207      81     0.00264\nShotPower              ShotPower  float64       48  18207      92     0.00264\nJumping                  Jumping  float64       48  18207      74     0.00264\nStamina                  Stamina  float64       48  18207      85     0.00264\nStrength                Strength  float64       48  18207      74     0.00264\nLongShots              LongShots  float64       48  18207      92     0.00264\nAggression            Aggression  float64       48  18207      85     0.00264\nInterceptions      Interceptions  float64       48  18207      89     0.00264\nPositioning          Positioning  float64       48  18207      94     0.00264\nVision                    Vision  float64       48  18207      85     0.00264\nPenalties              Penalties  float64       48  18207      87     0.00264\nComposure              Composure  float64       48  18207      84     0.00264\nMarking                  Marking  float64       48  18207      92     0.00264\nStandingTackle    StandingTackle  float64       48  18207      90     0.00264\nSlidingTackle      SlidingTackle  float64       48  18207      88     0.00264\nGKDiving                GKDiving  float64       48  18207      71     0.00264\nGKHandling            GKHandling  float64       48  18207      70     0.00264\nGKKicking              GKKicking  float64       48  18207      79     0.00264\nGKPositioning      GKPositioning  float64       48  18207      79     0.00264\nGKReflexes            GKReflexes  float64       48  18207      76     0.00264",
      "text/html": "<div>\n<style scoped>\n    .dataframe tbody tr th:only-of-type {\n        vertical-align: middle;\n    }\n\n    .dataframe tbody tr th {\n        vertical-align: top;\n    }\n\n    .dataframe thead th {\n        text-align: right;\n    }\n</style>\n<table border=\"1\" class=\"dataframe\">\n  <thead>\n    <tr style=\"text-align: right;\">\n      <th></th>\n      <th>colunas</th>\n      <th>tipo</th>\n      <th>missing</th>\n      <th>size</th>\n      <th>unicos</th>\n      <th>percentual</th>\n    </tr>\n  </thead>\n  <tbody>\n    <tr>\n      <th>Age</th>\n      <td>Age</td>\n      <td>int64</td>\n      <td>0</td>\n      <td>18207</td>\n      <td>29</td>\n      <td>0.00000</td>\n    </tr>\n    <tr>\n      <th>Overall</th>\n      <td>Overall</td>\n      <td>int64</td>\n      <td>0</td>\n      <td>18207</td>\n      <td>48</td>\n      <td>0.00000</td>\n    </tr>\n    <tr>\n      <th>Potential</th>\n      <td>Potential</td>\n      <td>int64</td>\n      <td>0</td>\n      <td>18207</td>\n      <td>47</td>\n      <td>0.00000</td>\n    </tr>\n    <tr>\n      <th>Crossing</th>\n      <td>Crossing</td>\n      <td>float64</td>\n      <td>48</td>\n      <td>18207</td>\n      <td>89</td>\n      <td>0.00264</td>\n    </tr>\n    <tr>\n      <th>Finishing</th>\n      <td>Finishing</td>\n      <td>float64</td>\n      <td>48</td>\n      <td>18207</td>\n      <td>93</td>\n      <td>0.00264</td>\n    </tr>\n    <tr>\n      <th>HeadingAccuracy</th>\n      <td>HeadingAccuracy</td>\n      <td>float64</td>\n      <td>48</td>\n      <td>18207</td>\n      <td>91</td>\n      <td>0.00264</td>\n    </tr>\n    <tr>\n      <th>ShortPassing</th>\n      <td>ShortPassing</td>\n      <td>float64</td>\n      <td>48</td>\n      <td>18207</td>\n      <td>85</td>\n      <td>0.00264</td>\n    </tr>\n    <tr>\n      <th>Volleys</th>\n      <td>Volleys</td>\n      <td>float64</td>\n      <td>48</td>\n      <td>18207</td>\n      <td>87</td>\n      <td>0.00264</td>\n    </tr>\n    <tr>\n      <th>Dribbling</th>\n      <td>Dribbling</td>\n      <td>float64</td>\n      <td>48</td>\n      <td>18207</td>\n      <td>94</td>\n      <td>0.00264</td>\n    </tr>\n    <tr>\n      <th>Curve</th>\n      <td>Curve</td>\n      <td>float64</td>\n      <td>48</td>\n      <td>18207</td>\n      <td>89</td>\n      <td>0.00264</td>\n    </tr>\n    <tr>\n      <th>FKAccuracy</th>\n      <td>FKAccuracy</td>\n      <td>float64</td>\n      <td>48</td>\n      <td>18207</td>\n      <td>90</td>\n      <td>0.00264</td>\n    </tr>\n    <tr>\n      <th>LongPassing</th>\n      <td>LongPassing</td>\n      <td>float64</td>\n      <td>48</td>\n      <td>18207</td>\n      <td>84</td>\n      <td>0.00264</td>\n    </tr>\n    <tr>\n      <th>BallControl</th>\n      <td>BallControl</td>\n      <td>float64</td>\n      <td>48</td>\n      <td>18207</td>\n      <td>90</td>\n      <td>0.00264</td>\n    </tr>\n    <tr>\n      <th>Acceleration</th>\n      <td>Acceleration</td>\n      <td>float64</td>\n      <td>48</td>\n      <td>18207</td>\n      <td>86</td>\n      <td>0.00264</td>\n    </tr>\n    <tr>\n      <th>SprintSpeed</th>\n      <td>SprintSpeed</td>\n      <td>float64</td>\n      <td>48</td>\n      <td>18207</td>\n      <td>85</td>\n      <td>0.00264</td>\n    </tr>\n    <tr>\n      <th>Agility</th>\n      <td>Agility</td>\n      <td>float64</td>\n      <td>48</td>\n      <td>18207</td>\n      <td>81</td>\n      <td>0.00264</td>\n    </tr>\n    <tr>\n      <th>Reactions</th>\n      <td>Reactions</td>\n      <td>float64</td>\n      <td>48</td>\n      <td>18207</td>\n      <td>68</td>\n      <td>0.00264</td>\n    </tr>\n    <tr>\n      <th>Balance</th>\n      <td>Balance</td>\n      <td>float64</td>\n      <td>48</td>\n      <td>18207</td>\n      <td>81</td>\n      <td>0.00264</td>\n    </tr>\n    <tr>\n      <th>ShotPower</th>\n      <td>ShotPower</td>\n      <td>float64</td>\n      <td>48</td>\n      <td>18207</td>\n      <td>92</td>\n      <td>0.00264</td>\n    </tr>\n    <tr>\n      <th>Jumping</th>\n      <td>Jumping</td>\n      <td>float64</td>\n      <td>48</td>\n      <td>18207</td>\n      <td>74</td>\n      <td>0.00264</td>\n    </tr>\n    <tr>\n      <th>Stamina</th>\n      <td>Stamina</td>\n      <td>float64</td>\n      <td>48</td>\n      <td>18207</td>\n      <td>85</td>\n      <td>0.00264</td>\n    </tr>\n    <tr>\n      <th>Strength</th>\n      <td>Strength</td>\n      <td>float64</td>\n      <td>48</td>\n      <td>18207</td>\n      <td>74</td>\n      <td>0.00264</td>\n    </tr>\n    <tr>\n      <th>LongShots</th>\n      <td>LongShots</td>\n      <td>float64</td>\n      <td>48</td>\n      <td>18207</td>\n      <td>92</td>\n      <td>0.00264</td>\n    </tr>\n    <tr>\n      <th>Aggression</th>\n      <td>Aggression</td>\n      <td>float64</td>\n      <td>48</td>\n      <td>18207</td>\n      <td>85</td>\n      <td>0.00264</td>\n    </tr>\n    <tr>\n      <th>Interceptions</th>\n      <td>Interceptions</td>\n      <td>float64</td>\n      <td>48</td>\n      <td>18207</td>\n      <td>89</td>\n      <td>0.00264</td>\n    </tr>\n    <tr>\n      <th>Positioning</th>\n      <td>Positioning</td>\n      <td>float64</td>\n      <td>48</td>\n      <td>18207</td>\n      <td>94</td>\n      <td>0.00264</td>\n    </tr>\n    <tr>\n      <th>Vision</th>\n      <td>Vision</td>\n      <td>float64</td>\n      <td>48</td>\n      <td>18207</td>\n      <td>85</td>\n      <td>0.00264</td>\n    </tr>\n    <tr>\n      <th>Penalties</th>\n      <td>Penalties</td>\n      <td>float64</td>\n      <td>48</td>\n      <td>18207</td>\n      <td>87</td>\n      <td>0.00264</td>\n    </tr>\n    <tr>\n      <th>Composure</th>\n      <td>Composure</td>\n      <td>float64</td>\n      <td>48</td>\n      <td>18207</td>\n      <td>84</td>\n      <td>0.00264</td>\n    </tr>\n    <tr>\n      <th>Marking</th>\n      <td>Marking</td>\n      <td>float64</td>\n      <td>48</td>\n      <td>18207</td>\n      <td>92</td>\n      <td>0.00264</td>\n    </tr>\n    <tr>\n      <th>StandingTackle</th>\n      <td>StandingTackle</td>\n      <td>float64</td>\n      <td>48</td>\n      <td>18207</td>\n      <td>90</td>\n      <td>0.00264</td>\n    </tr>\n    <tr>\n      <th>SlidingTackle</th>\n      <td>SlidingTackle</td>\n      <td>float64</td>\n      <td>48</td>\n      <td>18207</td>\n      <td>88</td>\n      <td>0.00264</td>\n    </tr>\n    <tr>\n      <th>GKDiving</th>\n      <td>GKDiving</td>\n      <td>float64</td>\n      <td>48</td>\n      <td>18207</td>\n      <td>71</td>\n      <td>0.00264</td>\n    </tr>\n    <tr>\n      <th>GKHandling</th>\n      <td>GKHandling</td>\n      <td>float64</td>\n      <td>48</td>\n      <td>18207</td>\n      <td>70</td>\n      <td>0.00264</td>\n    </tr>\n    <tr>\n      <th>GKKicking</th>\n      <td>GKKicking</td>\n      <td>float64</td>\n      <td>48</td>\n      <td>18207</td>\n      <td>79</td>\n      <td>0.00264</td>\n    </tr>\n    <tr>\n      <th>GKPositioning</th>\n      <td>GKPositioning</td>\n      <td>float64</td>\n      <td>48</td>\n      <td>18207</td>\n      <td>79</td>\n      <td>0.00264</td>\n    </tr>\n    <tr>\n      <th>GKReflexes</th>\n      <td>GKReflexes</td>\n      <td>float64</td>\n      <td>48</td>\n      <td>18207</td>\n      <td>76</td>\n      <td>0.00264</td>\n    </tr>\n  </tbody>\n</table>\n</div>"
     },
     "metadata": {},
     "execution_count": 132
    }
   ],
   "source": [
    "cons = pd.DataFrame({'colunas':fifa.columns,\n",
    "                'tipo': fifa.dtypes,\n",
    "                'missing':fifa.isna().sum(),\n",
    "                'size':fifa.shape[0],\n",
    "                'unicos':fifa.nunique()})\n",
    "cons['percentual'] = round(cons['missing']/cons['size'],5)\n",
    "cons"
   ]
  },
  {
   "cell_type": "code",
   "execution_count": 133,
   "metadata": {},
   "outputs": [
    {
     "output_type": "execute_result",
     "data": {
      "text/plain": "<matplotlib.axes._subplots.AxesSubplot at 0x7f490ae91e10>"
     },
     "metadata": {},
     "execution_count": 133
    },
    {
     "output_type": "display_data",
     "data": {
      "text/plain": "<Figure size 864x576 with 1 Axes>",
      "image/svg+xml": "<?xml version=\"1.0\" encoding=\"utf-8\" standalone=\"no\"?>\n<!DOCTYPE svg PUBLIC \"-//W3C//DTD SVG 1.1//EN\"\n  \"http://www.w3.org/Graphics/SVG/1.1/DTD/svg11.dtd\">\n<!-- Created with matplotlib (https://matplotlib.org/) -->\n<svg height=\"469.425937pt\" version=\"1.1\" viewBox=\"0 0 723.11125 469.425937\" width=\"723.11125pt\" xmlns=\"http://www.w3.org/2000/svg\" xmlns:xlink=\"http://www.w3.org/1999/xlink\">\n <defs>\n  <style type=\"text/css\">\n*{stroke-linecap:butt;stroke-linejoin:round;white-space:pre;}\n  </style>\n </defs>\n <g id=\"figure_1\">\n  <g id=\"patch_1\">\n   <path d=\"M 0 469.425937 \nL 723.11125 469.425937 \nL 723.11125 0 \nL 0 0 \nz\n\" style=\"fill:#ffffff;\"/>\n  </g>\n  <g id=\"axes_1\">\n   <g id=\"patch_2\">\n    <path d=\"M 46.31125 442.08 \nL 715.91125 442.08 \nL 715.91125 7.2 \nL 46.31125 7.2 \nz\n\" style=\"fill:#eaeaf2;\"/>\n   </g>\n   <g id=\"matplotlib.axis_1\">\n    <g id=\"xtick_1\">\n     <g id=\"line2d_1\">\n      <path clip-path=\"url(#p918679fe9b)\" d=\"M 76.747614 442.08 \nL 76.747614 7.2 \n\" style=\"fill:none;stroke:#ffffff;stroke-linecap:round;\"/>\n     </g>\n     <g id=\"text_1\">\n      <!-- 0.0000 -->\n      <defs>\n       <path d=\"M 31.78125 66.40625 \nQ 24.171875 66.40625 20.328125 58.90625 \nQ 16.5 51.421875 16.5 36.375 \nQ 16.5 21.390625 20.328125 13.890625 \nQ 24.171875 6.390625 31.78125 6.390625 \nQ 39.453125 6.390625 43.28125 13.890625 \nQ 47.125 21.390625 47.125 36.375 \nQ 47.125 51.421875 43.28125 58.90625 \nQ 39.453125 66.40625 31.78125 66.40625 \nz\nM 31.78125 74.21875 \nQ 44.046875 74.21875 50.515625 64.515625 \nQ 56.984375 54.828125 56.984375 36.375 \nQ 56.984375 17.96875 50.515625 8.265625 \nQ 44.046875 -1.421875 31.78125 -1.421875 \nQ 19.53125 -1.421875 13.0625 8.265625 \nQ 6.59375 17.96875 6.59375 36.375 \nQ 6.59375 54.828125 13.0625 64.515625 \nQ 19.53125 74.21875 31.78125 74.21875 \nz\n\" id=\"DejaVuSans-48\"/>\n       <path d=\"M 10.6875 12.40625 \nL 21 12.40625 \nL 21 0 \nL 10.6875 0 \nz\n\" id=\"DejaVuSans-46\"/>\n      </defs>\n      <g style=\"fill:#262626;\" transform=\"translate(57.50277 459.938281)scale(0.11 -0.11)\">\n       <use xlink:href=\"#DejaVuSans-48\"/>\n       <use x=\"63.623047\" xlink:href=\"#DejaVuSans-46\"/>\n       <use x=\"95.410156\" xlink:href=\"#DejaVuSans-48\"/>\n       <use x=\"159.033203\" xlink:href=\"#DejaVuSans-48\"/>\n       <use x=\"222.65625\" xlink:href=\"#DejaVuSans-48\"/>\n       <use x=\"286.279297\" xlink:href=\"#DejaVuSans-48\"/>\n      </g>\n     </g>\n    </g>\n    <g id=\"xtick_2\">\n     <g id=\"line2d_2\">\n      <path clip-path=\"url(#p918679fe9b)\" d=\"M 192.03687 442.08 \nL 192.03687 7.2 \n\" style=\"fill:none;stroke:#ffffff;stroke-linecap:round;\"/>\n     </g>\n     <g id=\"text_2\">\n      <!-- 0.0005 -->\n      <defs>\n       <path d=\"M 10.796875 72.90625 \nL 49.515625 72.90625 \nL 49.515625 64.59375 \nL 19.828125 64.59375 \nL 19.828125 46.734375 \nQ 21.96875 47.46875 24.109375 47.828125 \nQ 26.265625 48.1875 28.421875 48.1875 \nQ 40.625 48.1875 47.75 41.5 \nQ 54.890625 34.8125 54.890625 23.390625 \nQ 54.890625 11.625 47.5625 5.09375 \nQ 40.234375 -1.421875 26.90625 -1.421875 \nQ 22.3125 -1.421875 17.546875 -0.640625 \nQ 12.796875 0.140625 7.71875 1.703125 \nL 7.71875 11.625 \nQ 12.109375 9.234375 16.796875 8.0625 \nQ 21.484375 6.890625 26.703125 6.890625 \nQ 35.15625 6.890625 40.078125 11.328125 \nQ 45.015625 15.765625 45.015625 23.390625 \nQ 45.015625 31 40.078125 35.4375 \nQ 35.15625 39.890625 26.703125 39.890625 \nQ 22.75 39.890625 18.8125 39.015625 \nQ 14.890625 38.140625 10.796875 36.28125 \nz\n\" id=\"DejaVuSans-53\"/>\n      </defs>\n      <g style=\"fill:#262626;\" transform=\"translate(172.792026 459.938281)scale(0.11 -0.11)\">\n       <use xlink:href=\"#DejaVuSans-48\"/>\n       <use x=\"63.623047\" xlink:href=\"#DejaVuSans-46\"/>\n       <use x=\"95.410156\" xlink:href=\"#DejaVuSans-48\"/>\n       <use x=\"159.033203\" xlink:href=\"#DejaVuSans-48\"/>\n       <use x=\"222.65625\" xlink:href=\"#DejaVuSans-48\"/>\n       <use x=\"286.279297\" xlink:href=\"#DejaVuSans-53\"/>\n      </g>\n     </g>\n    </g>\n    <g id=\"xtick_3\">\n     <g id=\"line2d_3\">\n      <path clip-path=\"url(#p918679fe9b)\" d=\"M 307.326126 442.08 \nL 307.326126 7.2 \n\" style=\"fill:none;stroke:#ffffff;stroke-linecap:round;\"/>\n     </g>\n     <g id=\"text_3\">\n      <!-- 0.0010 -->\n      <defs>\n       <path d=\"M 12.40625 8.296875 \nL 28.515625 8.296875 \nL 28.515625 63.921875 \nL 10.984375 60.40625 \nL 10.984375 69.390625 \nL 28.421875 72.90625 \nL 38.28125 72.90625 \nL 38.28125 8.296875 \nL 54.390625 8.296875 \nL 54.390625 0 \nL 12.40625 0 \nz\n\" id=\"DejaVuSans-49\"/>\n      </defs>\n      <g style=\"fill:#262626;\" transform=\"translate(288.081282 459.938281)scale(0.11 -0.11)\">\n       <use xlink:href=\"#DejaVuSans-48\"/>\n       <use x=\"63.623047\" xlink:href=\"#DejaVuSans-46\"/>\n       <use x=\"95.410156\" xlink:href=\"#DejaVuSans-48\"/>\n       <use x=\"159.033203\" xlink:href=\"#DejaVuSans-48\"/>\n       <use x=\"222.65625\" xlink:href=\"#DejaVuSans-49\"/>\n       <use x=\"286.279297\" xlink:href=\"#DejaVuSans-48\"/>\n      </g>\n     </g>\n    </g>\n    <g id=\"xtick_4\">\n     <g id=\"line2d_4\">\n      <path clip-path=\"url(#p918679fe9b)\" d=\"M 422.615382 442.08 \nL 422.615382 7.2 \n\" style=\"fill:none;stroke:#ffffff;stroke-linecap:round;\"/>\n     </g>\n     <g id=\"text_4\">\n      <!-- 0.0015 -->\n      <g style=\"fill:#262626;\" transform=\"translate(403.370538 459.938281)scale(0.11 -0.11)\">\n       <use xlink:href=\"#DejaVuSans-48\"/>\n       <use x=\"63.623047\" xlink:href=\"#DejaVuSans-46\"/>\n       <use x=\"95.410156\" xlink:href=\"#DejaVuSans-48\"/>\n       <use x=\"159.033203\" xlink:href=\"#DejaVuSans-48\"/>\n       <use x=\"222.65625\" xlink:href=\"#DejaVuSans-49\"/>\n       <use x=\"286.279297\" xlink:href=\"#DejaVuSans-53\"/>\n      </g>\n     </g>\n    </g>\n    <g id=\"xtick_5\">\n     <g id=\"line2d_5\">\n      <path clip-path=\"url(#p918679fe9b)\" d=\"M 537.904638 442.08 \nL 537.904638 7.2 \n\" style=\"fill:none;stroke:#ffffff;stroke-linecap:round;\"/>\n     </g>\n     <g id=\"text_5\">\n      <!-- 0.0020 -->\n      <defs>\n       <path d=\"M 19.1875 8.296875 \nL 53.609375 8.296875 \nL 53.609375 0 \nL 7.328125 0 \nL 7.328125 8.296875 \nQ 12.9375 14.109375 22.625 23.890625 \nQ 32.328125 33.6875 34.8125 36.53125 \nQ 39.546875 41.84375 41.421875 45.53125 \nQ 43.3125 49.21875 43.3125 52.78125 \nQ 43.3125 58.59375 39.234375 62.25 \nQ 35.15625 65.921875 28.609375 65.921875 \nQ 23.96875 65.921875 18.8125 64.3125 \nQ 13.671875 62.703125 7.8125 59.421875 \nL 7.8125 69.390625 \nQ 13.765625 71.78125 18.9375 73 \nQ 24.125 74.21875 28.421875 74.21875 \nQ 39.75 74.21875 46.484375 68.546875 \nQ 53.21875 62.890625 53.21875 53.421875 \nQ 53.21875 48.921875 51.53125 44.890625 \nQ 49.859375 40.875 45.40625 35.40625 \nQ 44.1875 33.984375 37.640625 27.21875 \nQ 31.109375 20.453125 19.1875 8.296875 \nz\n\" id=\"DejaVuSans-50\"/>\n      </defs>\n      <g style=\"fill:#262626;\" transform=\"translate(518.659795 459.938281)scale(0.11 -0.11)\">\n       <use xlink:href=\"#DejaVuSans-48\"/>\n       <use x=\"63.623047\" xlink:href=\"#DejaVuSans-46\"/>\n       <use x=\"95.410156\" xlink:href=\"#DejaVuSans-48\"/>\n       <use x=\"159.033203\" xlink:href=\"#DejaVuSans-48\"/>\n       <use x=\"222.65625\" xlink:href=\"#DejaVuSans-50\"/>\n       <use x=\"286.279297\" xlink:href=\"#DejaVuSans-48\"/>\n      </g>\n     </g>\n    </g>\n    <g id=\"xtick_6\">\n     <g id=\"line2d_6\">\n      <path clip-path=\"url(#p918679fe9b)\" d=\"M 653.193895 442.08 \nL 653.193895 7.2 \n\" style=\"fill:none;stroke:#ffffff;stroke-linecap:round;\"/>\n     </g>\n     <g id=\"text_6\">\n      <!-- 0.0025 -->\n      <g style=\"fill:#262626;\" transform=\"translate(633.949051 459.938281)scale(0.11 -0.11)\">\n       <use xlink:href=\"#DejaVuSans-48\"/>\n       <use x=\"63.623047\" xlink:href=\"#DejaVuSans-46\"/>\n       <use x=\"95.410156\" xlink:href=\"#DejaVuSans-48\"/>\n       <use x=\"159.033203\" xlink:href=\"#DejaVuSans-48\"/>\n       <use x=\"222.65625\" xlink:href=\"#DejaVuSans-50\"/>\n       <use x=\"286.279297\" xlink:href=\"#DejaVuSans-53\"/>\n      </g>\n     </g>\n    </g>\n   </g>\n   <g id=\"matplotlib.axis_2\">\n    <g id=\"ytick_1\">\n     <g id=\"line2d_7\">\n      <path clip-path=\"url(#p918679fe9b)\" d=\"M 46.31125 442.08 \nL 715.91125 442.08 \n\" style=\"fill:none;stroke:#ffffff;stroke-linecap:round;\"/>\n     </g>\n     <g id=\"text_7\">\n      <!-- 0 -->\n      <g style=\"fill:#262626;\" transform=\"translate(29.8125 446.259141)scale(0.11 -0.11)\">\n       <use xlink:href=\"#DejaVuSans-48\"/>\n      </g>\n     </g>\n    </g>\n    <g id=\"ytick_2\">\n     <g id=\"line2d_8\">\n      <path clip-path=\"url(#p918679fe9b)\" d=\"M 46.31125 381.172437 \nL 715.91125 381.172437 \n\" style=\"fill:none;stroke:#ffffff;stroke-linecap:round;\"/>\n     </g>\n     <g id=\"text_8\">\n      <!-- 5 -->\n      <g style=\"fill:#262626;\" transform=\"translate(29.8125 385.351578)scale(0.11 -0.11)\">\n       <use xlink:href=\"#DejaVuSans-53\"/>\n      </g>\n     </g>\n    </g>\n    <g id=\"ytick_3\">\n     <g id=\"line2d_9\">\n      <path clip-path=\"url(#p918679fe9b)\" d=\"M 46.31125 320.264874 \nL 715.91125 320.264874 \n\" style=\"fill:none;stroke:#ffffff;stroke-linecap:round;\"/>\n     </g>\n     <g id=\"text_9\">\n      <!-- 10 -->\n      <g style=\"fill:#262626;\" transform=\"translate(22.81375 324.444015)scale(0.11 -0.11)\">\n       <use xlink:href=\"#DejaVuSans-49\"/>\n       <use x=\"63.623047\" xlink:href=\"#DejaVuSans-48\"/>\n      </g>\n     </g>\n    </g>\n    <g id=\"ytick_4\">\n     <g id=\"line2d_10\">\n      <path clip-path=\"url(#p918679fe9b)\" d=\"M 46.31125 259.357311 \nL 715.91125 259.357311 \n\" style=\"fill:none;stroke:#ffffff;stroke-linecap:round;\"/>\n     </g>\n     <g id=\"text_10\">\n      <!-- 15 -->\n      <g style=\"fill:#262626;\" transform=\"translate(22.81375 263.536452)scale(0.11 -0.11)\">\n       <use xlink:href=\"#DejaVuSans-49\"/>\n       <use x=\"63.623047\" xlink:href=\"#DejaVuSans-53\"/>\n      </g>\n     </g>\n    </g>\n    <g id=\"ytick_5\">\n     <g id=\"line2d_11\">\n      <path clip-path=\"url(#p918679fe9b)\" d=\"M 46.31125 198.449748 \nL 715.91125 198.449748 \n\" style=\"fill:none;stroke:#ffffff;stroke-linecap:round;\"/>\n     </g>\n     <g id=\"text_11\">\n      <!-- 20 -->\n      <g style=\"fill:#262626;\" transform=\"translate(22.81375 202.628889)scale(0.11 -0.11)\">\n       <use xlink:href=\"#DejaVuSans-50\"/>\n       <use x=\"63.623047\" xlink:href=\"#DejaVuSans-48\"/>\n      </g>\n     </g>\n    </g>\n    <g id=\"ytick_6\">\n     <g id=\"line2d_12\">\n      <path clip-path=\"url(#p918679fe9b)\" d=\"M 46.31125 137.542185 \nL 715.91125 137.542185 \n\" style=\"fill:none;stroke:#ffffff;stroke-linecap:round;\"/>\n     </g>\n     <g id=\"text_12\">\n      <!-- 25 -->\n      <g style=\"fill:#262626;\" transform=\"translate(22.81375 141.721325)scale(0.11 -0.11)\">\n       <use xlink:href=\"#DejaVuSans-50\"/>\n       <use x=\"63.623047\" xlink:href=\"#DejaVuSans-53\"/>\n      </g>\n     </g>\n    </g>\n    <g id=\"ytick_7\">\n     <g id=\"line2d_13\">\n      <path clip-path=\"url(#p918679fe9b)\" d=\"M 46.31125 76.634622 \nL 715.91125 76.634622 \n\" style=\"fill:none;stroke:#ffffff;stroke-linecap:round;\"/>\n     </g>\n     <g id=\"text_13\">\n      <!-- 30 -->\n      <defs>\n       <path d=\"M 40.578125 39.3125 \nQ 47.65625 37.796875 51.625 33 \nQ 55.609375 28.21875 55.609375 21.1875 \nQ 55.609375 10.40625 48.1875 4.484375 \nQ 40.765625 -1.421875 27.09375 -1.421875 \nQ 22.515625 -1.421875 17.65625 -0.515625 \nQ 12.796875 0.390625 7.625 2.203125 \nL 7.625 11.71875 \nQ 11.71875 9.328125 16.59375 8.109375 \nQ 21.484375 6.890625 26.8125 6.890625 \nQ 36.078125 6.890625 40.9375 10.546875 \nQ 45.796875 14.203125 45.796875 21.1875 \nQ 45.796875 27.640625 41.28125 31.265625 \nQ 36.765625 34.90625 28.71875 34.90625 \nL 20.21875 34.90625 \nL 20.21875 43.015625 \nL 29.109375 43.015625 \nQ 36.375 43.015625 40.234375 45.921875 \nQ 44.09375 48.828125 44.09375 54.296875 \nQ 44.09375 59.90625 40.109375 62.90625 \nQ 36.140625 65.921875 28.71875 65.921875 \nQ 24.65625 65.921875 20.015625 65.03125 \nQ 15.375 64.15625 9.8125 62.3125 \nL 9.8125 71.09375 \nQ 15.4375 72.65625 20.34375 73.4375 \nQ 25.25 74.21875 29.59375 74.21875 \nQ 40.828125 74.21875 47.359375 69.109375 \nQ 53.90625 64.015625 53.90625 55.328125 \nQ 53.90625 49.265625 50.4375 45.09375 \nQ 46.96875 40.921875 40.578125 39.3125 \nz\n\" id=\"DejaVuSans-51\"/>\n      </defs>\n      <g style=\"fill:#262626;\" transform=\"translate(22.81375 80.813762)scale(0.11 -0.11)\">\n       <use xlink:href=\"#DejaVuSans-51\"/>\n       <use x=\"63.623047\" xlink:href=\"#DejaVuSans-48\"/>\n      </g>\n     </g>\n    </g>\n    <g id=\"ytick_8\">\n     <g id=\"line2d_14\">\n      <path clip-path=\"url(#p918679fe9b)\" d=\"M 46.31125 15.727059 \nL 715.91125 15.727059 \n\" style=\"fill:none;stroke:#ffffff;stroke-linecap:round;\"/>\n     </g>\n     <g id=\"text_14\">\n      <!-- 35 -->\n      <g style=\"fill:#262626;\" transform=\"translate(22.81375 19.906199)scale(0.11 -0.11)\">\n       <use xlink:href=\"#DejaVuSans-51\"/>\n       <use x=\"63.623047\" xlink:href=\"#DejaVuSans-53\"/>\n      </g>\n     </g>\n    </g>\n    <g id=\"text_15\">\n     <!-- Frequency -->\n     <defs>\n      <path d=\"M 9.8125 72.90625 \nL 51.703125 72.90625 \nL 51.703125 64.59375 \nL 19.671875 64.59375 \nL 19.671875 43.109375 \nL 48.578125 43.109375 \nL 48.578125 34.8125 \nL 19.671875 34.8125 \nL 19.671875 0 \nL 9.8125 0 \nz\n\" id=\"DejaVuSans-70\"/>\n      <path d=\"M 41.109375 46.296875 \nQ 39.59375 47.171875 37.8125 47.578125 \nQ 36.03125 48 33.890625 48 \nQ 26.265625 48 22.1875 43.046875 \nQ 18.109375 38.09375 18.109375 28.8125 \nL 18.109375 0 \nL 9.078125 0 \nL 9.078125 54.6875 \nL 18.109375 54.6875 \nL 18.109375 46.1875 \nQ 20.953125 51.171875 25.484375 53.578125 \nQ 30.03125 56 36.53125 56 \nQ 37.453125 56 38.578125 55.875 \nQ 39.703125 55.765625 41.0625 55.515625 \nz\n\" id=\"DejaVuSans-114\"/>\n      <path d=\"M 56.203125 29.59375 \nL 56.203125 25.203125 \nL 14.890625 25.203125 \nQ 15.484375 15.921875 20.484375 11.0625 \nQ 25.484375 6.203125 34.421875 6.203125 \nQ 39.59375 6.203125 44.453125 7.46875 \nQ 49.3125 8.734375 54.109375 11.28125 \nL 54.109375 2.78125 \nQ 49.265625 0.734375 44.1875 -0.34375 \nQ 39.109375 -1.421875 33.890625 -1.421875 \nQ 20.796875 -1.421875 13.15625 6.1875 \nQ 5.515625 13.8125 5.515625 26.8125 \nQ 5.515625 40.234375 12.765625 48.109375 \nQ 20.015625 56 32.328125 56 \nQ 43.359375 56 49.78125 48.890625 \nQ 56.203125 41.796875 56.203125 29.59375 \nz\nM 47.21875 32.234375 \nQ 47.125 39.59375 43.09375 43.984375 \nQ 39.0625 48.390625 32.421875 48.390625 \nQ 24.90625 48.390625 20.390625 44.140625 \nQ 15.875 39.890625 15.1875 32.171875 \nz\n\" id=\"DejaVuSans-101\"/>\n      <path d=\"M 14.796875 27.296875 \nQ 14.796875 17.390625 18.875 11.75 \nQ 22.953125 6.109375 30.078125 6.109375 \nQ 37.203125 6.109375 41.296875 11.75 \nQ 45.40625 17.390625 45.40625 27.296875 \nQ 45.40625 37.203125 41.296875 42.84375 \nQ 37.203125 48.484375 30.078125 48.484375 \nQ 22.953125 48.484375 18.875 42.84375 \nQ 14.796875 37.203125 14.796875 27.296875 \nz\nM 45.40625 8.203125 \nQ 42.578125 3.328125 38.25 0.953125 \nQ 33.9375 -1.421875 27.875 -1.421875 \nQ 17.96875 -1.421875 11.734375 6.484375 \nQ 5.515625 14.40625 5.515625 27.296875 \nQ 5.515625 40.1875 11.734375 48.09375 \nQ 17.96875 56 27.875 56 \nQ 33.9375 56 38.25 53.625 \nQ 42.578125 51.265625 45.40625 46.390625 \nL 45.40625 54.6875 \nL 54.390625 54.6875 \nL 54.390625 -20.796875 \nL 45.40625 -20.796875 \nz\n\" id=\"DejaVuSans-113\"/>\n      <path d=\"M 8.5 21.578125 \nL 8.5 54.6875 \nL 17.484375 54.6875 \nL 17.484375 21.921875 \nQ 17.484375 14.15625 20.5 10.265625 \nQ 23.53125 6.390625 29.59375 6.390625 \nQ 36.859375 6.390625 41.078125 11.03125 \nQ 45.3125 15.671875 45.3125 23.6875 \nL 45.3125 54.6875 \nL 54.296875 54.6875 \nL 54.296875 0 \nL 45.3125 0 \nL 45.3125 8.40625 \nQ 42.046875 3.421875 37.71875 1 \nQ 33.40625 -1.421875 27.6875 -1.421875 \nQ 18.265625 -1.421875 13.375 4.4375 \nQ 8.5 10.296875 8.5 21.578125 \nz\nM 31.109375 56 \nz\n\" id=\"DejaVuSans-117\"/>\n      <path d=\"M 54.890625 33.015625 \nL 54.890625 0 \nL 45.90625 0 \nL 45.90625 32.71875 \nQ 45.90625 40.484375 42.875 44.328125 \nQ 39.84375 48.1875 33.796875 48.1875 \nQ 26.515625 48.1875 22.3125 43.546875 \nQ 18.109375 38.921875 18.109375 30.90625 \nL 18.109375 0 \nL 9.078125 0 \nL 9.078125 54.6875 \nL 18.109375 54.6875 \nL 18.109375 46.1875 \nQ 21.34375 51.125 25.703125 53.5625 \nQ 30.078125 56 35.796875 56 \nQ 45.21875 56 50.046875 50.171875 \nQ 54.890625 44.34375 54.890625 33.015625 \nz\n\" id=\"DejaVuSans-110\"/>\n      <path d=\"M 48.78125 52.59375 \nL 48.78125 44.1875 \nQ 44.96875 46.296875 41.140625 47.34375 \nQ 37.3125 48.390625 33.40625 48.390625 \nQ 24.65625 48.390625 19.8125 42.84375 \nQ 14.984375 37.3125 14.984375 27.296875 \nQ 14.984375 17.28125 19.8125 11.734375 \nQ 24.65625 6.203125 33.40625 6.203125 \nQ 37.3125 6.203125 41.140625 7.25 \nQ 44.96875 8.296875 48.78125 10.40625 \nL 48.78125 2.09375 \nQ 45.015625 0.34375 40.984375 -0.53125 \nQ 36.96875 -1.421875 32.421875 -1.421875 \nQ 20.0625 -1.421875 12.78125 6.34375 \nQ 5.515625 14.109375 5.515625 27.296875 \nQ 5.515625 40.671875 12.859375 48.328125 \nQ 20.21875 56 33.015625 56 \nQ 37.15625 56 41.109375 55.140625 \nQ 45.0625 54.296875 48.78125 52.59375 \nz\n\" id=\"DejaVuSans-99\"/>\n      <path d=\"M 32.171875 -5.078125 \nQ 28.375 -14.84375 24.75 -17.8125 \nQ 21.140625 -20.796875 15.09375 -20.796875 \nL 7.90625 -20.796875 \nL 7.90625 -13.28125 \nL 13.1875 -13.28125 \nQ 16.890625 -13.28125 18.9375 -11.515625 \nQ 21 -9.765625 23.484375 -3.21875 \nL 25.09375 0.875 \nL 2.984375 54.6875 \nL 12.5 54.6875 \nL 29.59375 11.921875 \nL 46.6875 54.6875 \nL 56.203125 54.6875 \nz\n\" id=\"DejaVuSans-121\"/>\n     </defs>\n     <g style=\"fill:#262626;\" transform=\"translate(16.318125 256.197187)rotate(-90)scale(0.12 -0.12)\">\n      <use xlink:href=\"#DejaVuSans-70\"/>\n      <use x=\"57.410156\" xlink:href=\"#DejaVuSans-114\"/>\n      <use x=\"98.492188\" xlink:href=\"#DejaVuSans-101\"/>\n      <use x=\"160.015625\" xlink:href=\"#DejaVuSans-113\"/>\n      <use x=\"223.492188\" xlink:href=\"#DejaVuSans-117\"/>\n      <use x=\"286.871094\" xlink:href=\"#DejaVuSans-101\"/>\n      <use x=\"348.394531\" xlink:href=\"#DejaVuSans-110\"/>\n      <use x=\"411.773438\" xlink:href=\"#DejaVuSans-99\"/>\n      <use x=\"466.753906\" xlink:href=\"#DejaVuSans-121\"/>\n     </g>\n    </g>\n   </g>\n   <g id=\"patch_3\">\n    <path clip-path=\"url(#p918679fe9b)\" d=\"M 76.747614 442.08 \nL 137.620341 442.08 \nL 137.620341 405.535462 \nL 76.747614 405.535462 \nz\n\" style=\"fill:#4c72b0;stroke:#ffffff;stroke-linejoin:miter;\"/>\n   </g>\n   <g id=\"patch_4\">\n    <path clip-path=\"url(#p918679fe9b)\" d=\"M 137.620341 442.08 \nL 198.493068 442.08 \nL 198.493068 442.08 \nL 137.620341 442.08 \nz\n\" style=\"fill:#4c72b0;stroke:#ffffff;stroke-linejoin:miter;\"/>\n   </g>\n   <g id=\"patch_5\">\n    <path clip-path=\"url(#p918679fe9b)\" d=\"M 198.493068 442.08 \nL 259.365795 442.08 \nL 259.365795 442.08 \nL 198.493068 442.08 \nz\n\" style=\"fill:#4c72b0;stroke:#ffffff;stroke-linejoin:miter;\"/>\n   </g>\n   <g id=\"patch_6\">\n    <path clip-path=\"url(#p918679fe9b)\" d=\"M 259.365795 442.08 \nL 320.238523 442.08 \nL 320.238523 442.08 \nL 259.365795 442.08 \nz\n\" style=\"fill:#4c72b0;stroke:#ffffff;stroke-linejoin:miter;\"/>\n   </g>\n   <g id=\"patch_7\">\n    <path clip-path=\"url(#p918679fe9b)\" d=\"M 320.238523 442.08 \nL 381.11125 442.08 \nL 381.11125 442.08 \nL 320.238523 442.08 \nz\n\" style=\"fill:#4c72b0;stroke:#ffffff;stroke-linejoin:miter;\"/>\n   </g>\n   <g id=\"patch_8\">\n    <path clip-path=\"url(#p918679fe9b)\" d=\"M 381.11125 442.08 \nL 441.983977 442.08 \nL 441.983977 442.08 \nL 381.11125 442.08 \nz\n\" style=\"fill:#4c72b0;stroke:#ffffff;stroke-linejoin:miter;\"/>\n   </g>\n   <g id=\"patch_9\">\n    <path clip-path=\"url(#p918679fe9b)\" d=\"M 441.983977 442.08 \nL 502.856705 442.08 \nL 502.856705 442.08 \nL 441.983977 442.08 \nz\n\" style=\"fill:#4c72b0;stroke:#ffffff;stroke-linejoin:miter;\"/>\n   </g>\n   <g id=\"patch_10\">\n    <path clip-path=\"url(#p918679fe9b)\" d=\"M 502.856705 442.08 \nL 563.729432 442.08 \nL 563.729432 442.08 \nL 502.856705 442.08 \nz\n\" style=\"fill:#4c72b0;stroke:#ffffff;stroke-linejoin:miter;\"/>\n   </g>\n   <g id=\"patch_11\">\n    <path clip-path=\"url(#p918679fe9b)\" d=\"M 563.729432 442.08 \nL 624.602159 442.08 \nL 624.602159 442.08 \nL 563.729432 442.08 \nz\n\" style=\"fill:#4c72b0;stroke:#ffffff;stroke-linejoin:miter;\"/>\n   </g>\n   <g id=\"patch_12\">\n    <path clip-path=\"url(#p918679fe9b)\" d=\"M 624.602159 442.08 \nL 685.474886 442.08 \nL 685.474886 27.908571 \nL 624.602159 27.908571 \nz\n\" style=\"fill:#4c72b0;stroke:#ffffff;stroke-linejoin:miter;\"/>\n   </g>\n   <g id=\"patch_13\">\n    <path d=\"M 46.31125 442.08 \nL 46.31125 7.2 \n\" style=\"fill:none;stroke:#ffffff;stroke-linecap:square;stroke-linejoin:miter;stroke-width:1.25;\"/>\n   </g>\n   <g id=\"patch_14\">\n    <path d=\"M 715.91125 442.08 \nL 715.91125 7.2 \n\" style=\"fill:none;stroke:#ffffff;stroke-linecap:square;stroke-linejoin:miter;stroke-width:1.25;\"/>\n   </g>\n   <g id=\"patch_15\">\n    <path d=\"M 46.31125 442.08 \nL 715.91125 442.08 \n\" style=\"fill:none;stroke:#ffffff;stroke-linecap:square;stroke-linejoin:miter;stroke-width:1.25;\"/>\n   </g>\n   <g id=\"patch_16\">\n    <path d=\"M 46.31125 7.2 \nL 715.91125 7.2 \n\" style=\"fill:none;stroke:#ffffff;stroke-linecap:square;stroke-linejoin:miter;stroke-width:1.25;\"/>\n   </g>\n  </g>\n </g>\n <defs>\n  <clipPath id=\"p918679fe9b\">\n   <rect height=\"434.88\" width=\"669.6\" x=\"46.31125\" y=\"7.2\"/>\n  </clipPath>\n </defs>\n</svg>\n",
      "image/png": "[encoded data removed]"
     },
     "metadata": {}
    }
   ],
   "source": [
    "cons.percentual.plot.hist()"
   ]
  },
  {
   "cell_type": "code",
   "execution_count": 134,
   "metadata": {
    "tags": []
   },
   "outputs": [
    {
     "output_type": "stream",
     "name": "stdout",
     "text": "numero de colunas sem dados faltante 3\nnumero de colunas com dados faltante 34\n"
    }
   ],
   "source": [
    "print('numero de colunas sem dados faltante',cons[cons.percentual==0].shape[0])\n",
    "print('numero de colunas com dados faltante',cons[cons.percentual>0].shape[0])"
   ]
  },
  {
   "cell_type": "code",
   "execution_count": 135,
   "metadata": {},
   "outputs": [
    {
     "output_type": "execute_result",
     "data": {
      "text/plain": "int64    3\nName: tipo, dtype: int64"
     },
     "metadata": {},
     "execution_count": 135
    }
   ],
   "source": [
    "cons[cons.percentual==0]['tipo'].value_counts()"
   ]
  },
  {
   "cell_type": "code",
   "execution_count": 180,
   "metadata": {},
   "outputs": [],
   "source": [
    "fifa=fifa.dropna()"
   ]
  },
  {
   "cell_type": "code",
   "execution_count": 185,
   "metadata": {},
   "outputs": [
    {
     "output_type": "execute_result",
     "data": {
      "text/plain": "0.565"
     },
     "metadata": {},
     "execution_count": 185
    }
   ],
   "source": [
    "pca = PCA().fit(fifa)\n",
    "\n",
    "evr = pca.explained_variance_ratio_\n",
    "evr[0].round(3)"
   ]
  },
  {
   "cell_type": "markdown",
   "metadata": {},
   "source": [
    "## Questão 1\n",
    "\n",
    "Qual fração da variância consegue ser explicada pelo primeiro componente principal de `fifa`? Responda como um único float (entre 0 e 1) arredondado para três casas decimais."
   ]
  },
  {
   "cell_type": "code",
   "execution_count": 186,
   "metadata": {},
   "outputs": [],
   "source": [
    "def q1():\n",
    "    pca = PCA().fit(fifa)\n",
    "\n",
    "    evr = pca.explained_variance_ratio_\n",
    "    return float(round(evr[0],3))"
   ]
  },
  {
   "cell_type": "markdown",
   "metadata": {},
   "source": [
    "## Questão 2\n",
    "\n",
    "Quantos componentes principais precisamos para explicar 95% da variância total? Responda como un único escalar inteiro."
   ]
  },
  {
   "cell_type": "code",
   "execution_count": 143,
   "metadata": {},
   "outputs": [],
   "source": [
    "def q2():\n",
    "    pca_095 = PCA(n_components=0.95)\n",
    "    X_reduced = pca_095.fit_transform(fifa)\n",
    "\n",
    "    return X_reduced.shape[1] # Segundo elemento da tupla é o número de componentes encontrados.\n",
    "    "
   ]
  },
  {
   "cell_type": "markdown",
   "metadata": {},
   "source": [
    "## Questão 3\n",
    "\n",
    "Qual são as coordenadas (primeiro e segundo componentes principais) do ponto `x` abaixo? O vetor abaixo já está centralizado. Cuidado para __não__ centralizar o vetor novamente (por exemplo, invocando `PCA.transform()` nele). Responda como uma tupla de float arredondados para três casas decimais."
   ]
  },
  {
   "cell_type": "code",
   "execution_count": 190,
   "metadata": {},
   "outputs": [
    {
     "output_type": "execute_result",
     "data": {
      "text/plain": "(186.556, -6.592)"
     },
     "metadata": {},
     "execution_count": 190
    }
   ],
   "source": [
    "x = [0.87747123,  -1.24990363,  -1.3191255, -36.7341814,\n",
    "     -35.55091139, -37.29814417, -28.68671182, -30.90902583,\n",
    "     -42.37100061, -32.17082438, -28.86315326, -22.71193348,\n",
    "     -38.36945867, -20.61407566, -22.72696734, -25.50360703,\n",
    "     2.16339005, -27.96657305, -33.46004736,  -5.08943224,\n",
    "     -30.21994603,   3.68803348, -36.10997302, -30.86899058,\n",
    "     -22.69827634, -37.95847789, -22.40090313, -30.54859849,\n",
    "     -26.64827358, -19.28162344, -34.69783578, -34.6614351,\n",
    "     48.38377664,  47.60840355,  45.76793876,  44.61110193,\n",
    "     49.28911284\n",
    "]\n",
    "myPCA = PCA(n_components=2).fit(fifa)\n",
    "com = myPCA.components_.dot(x)\n",
    "tuple(com.round(3))"
   ]
  },
  {
   "cell_type": "code",
   "execution_count": 145,
   "metadata": {},
   "outputs": [],
   "source": [
    "def q3():\n",
    "    myPCA = PCA(n_components=2).fit(fifa)\n",
    "    com = myPCA.components_.dot(x)\n",
    "    return tuple(com.round(3))"
   ]
  },
  {
   "cell_type": "markdown",
   "metadata": {},
   "source": [
    "## Questão 4\n",
    "\n",
    "Realiza RFE com estimador de regressão linear para selecionar cinco variáveis, eliminando uma a uma. Quais são as variáveis selecionadas? Responda como uma lista de nomes de variáveis."
   ]
  },
  {
   "cell_type": "code",
   "execution_count": 195,
   "metadata": {},
   "outputs": [
    {
     "output_type": "execute_result",
     "data": {
      "text/plain": "[0             Age\n 1       Potential\n 11    BallControl\n 15      Reactions\n 35     GKReflexes\n Name: coluna, dtype: object]"
     },
     "metadata": {},
     "execution_count": 195
    }
   ],
   "source": [
    "from sklearn.linear_model import LinearRegression\n",
    "\n",
    "reg= LinearRegression()\n",
    "\n",
    "Y_train = fifa['Overall']\n",
    "X_train = fifa.drop(['Overall'], axis=1)\n",
    "reg.fit(X_train, Y_train)\n",
    "\n",
    "colunas_treinamento = X_train.columns\n",
    "\n",
    "from sklearn.feature_selection import RFE\n",
    "\n",
    "rfe = RFE(reg, n_features_to_select=5)\n",
    "rfe.fit(X_train, Y_train)\n",
    "\n",
    "fifa_selected = pd.DataFrame({'coluna':X_train.columns,\n",
    "            'escolheu_a_feature': rfe.get_support(),\n",
    "            'coeficientes': pd.Series(reg.coef_)})\n",
    "\n",
    "fifa_selected = fifa_selected[fifa_selected['escolheu_a_feature']==True]\n",
    "list([fifa_selected['coluna']])"
   ]
  },
  {
   "cell_type": "code",
   "execution_count": 124,
   "metadata": {},
   "outputs": [],
   "source": [
    "def q4():\n",
    "    from sklearn.linear_model import LinearRegression\n",
    "\n",
    "    reg= LinearRegression()\n",
    "\n",
    "    Y_train = fifa['Overall']\n",
    "    X_train = fifa.drop(['Overall'], axis=1)\n",
    "    reg.fit(X_train, Y_train)\n",
    "\n",
    "    colunas_treinamento = X_train.columns\n",
    "\n",
    "    from sklearn.feature_selection import RFE\n",
    "\n",
    "    rfe = RFE(reg, n_features_to_select=5)\n",
    "    rfe.fit(X_train, Y_train)\n",
    "\n",
    "    fifa_selected = pd.DataFrame({'coluna':X_train.columns,\n",
    "                'escolheu a feature': rfe.get_support(),\n",
    "                'coeficientes': pd.Series(reg.coef_)})\n",
    "\n",
    "    fifa_selected = fifa_selected[fifa_selected['escolheu a feature']==True]\n",
    "    return list(fifa_selected['coluna'])"
   ]
  }
 ],
 "metadata": {
  "kernelspec": {
   "display_name": "Python 3.6.9 64-bit ('venv': venv)",
   "language": "python",
   "name": "python36964bitvenvvenvfb372c658abd4b11b855d7caf066258c"
  },
  "language_info": {
   "codemirror_mode": {
    "name": "ipython",
    "version": 3
   },
   "file_extension": ".py",
   "mimetype": "text/x-python",
   "name": "python",
   "nbconvert_exporter": "python",
   "pygments_lexer": "ipython3",
   "version": "3.6.9-final"
  }
 },
 "nbformat": 4,
 "nbformat_minor": 2
}