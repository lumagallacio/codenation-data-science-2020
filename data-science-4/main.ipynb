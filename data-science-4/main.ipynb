{
 "cells": [
  {
   "cell_type": "markdown",
   "metadata": {},
   "source": [
    "# Desafio 6\n",
    "\n",
    "Neste desafio, vamos praticar _feature engineering_, um dos processos mais importantes e trabalhosos de ML. Utilizaremos o _data set_ [Countries of the world](https://www.kaggle.com/fernandol/countries-of-the-world), que contém dados sobre os 227 países do mundo com informações sobre tamanho da população, área, imigração e setores de produção.\n",
    "\n",
    "> Obs.: Por favor, não modifique o nome das funções de resposta."
   ]
  },
  {
   "cell_type": "markdown",
   "metadata": {},
   "source": [
    "## _Setup_ geral"
   ]
  },
  {
   "cell_type": "code",
   "execution_count": 1246,
   "metadata": {},
   "outputs": [],
   "source": [
    "import pandas as pd\n",
    "import numpy as np\n",
    "import seaborn as sns\n",
    "import sklearn as sk\n",
    "from sklearn.preprocessing import (\n",
    "    OneHotEncoder, Binarizer, KBinsDiscretizer,\n",
    "    MinMaxScaler, StandardScaler, PolynomialFeatures\n",
    ")"
   ]
  },
  {
   "cell_type": "code",
   "execution_count": 1247,
   "metadata": {},
   "outputs": [],
   "source": [
    "# # Algumas configurações para o matplotlib.\n",
    "# %matplotlib inline\n",
    "\n",
    "# from IPython.core.pylabtools import figsize\n",
    "\n",
    "\n",
    "# figsize(12, 8)\n",
    "\n",
    "# sns.set()"
   ]
  },
  {
   "cell_type": "code",
   "execution_count": 1248,
   "metadata": {
    "scrolled": false
   },
   "outputs": [],
   "source": [
    "countries = pd.read_csv(\"countries.csv\")"
   ]
  },
  {
   "cell_type": "code",
   "execution_count": 1249,
   "metadata": {},
   "outputs": [
    {
     "output_type": "execute_result",
     "data": {
      "text/plain": "           Country                               Region  Population     Area  \\\n0     Afghanistan         ASIA (EX. NEAR EAST)             31056997   647500   \n1         Albania   EASTERN EUROPE                          3581655    28748   \n2         Algeria   NORTHERN AFRICA                        32930091  2381740   \n3  American Samoa   OCEANIA                                   57794      199   \n4         Andorra   WESTERN EUROPE                            71201      468   \n\n  Pop_density Coastline_ratio Net_migration Infant_mortality      GDP  \\\n0        48,0            0,00         23,06           163,07    700.0   \n1       124,6            1,26         -4,93            21,52   4500.0   \n2        13,8            0,04         -0,39               31   6000.0   \n3       290,4           58,29        -20,71             9,27   8000.0   \n4       152,1            0,00           6,6             4,05  19000.0   \n\n  Literacy Phones_per_1000 Arable Crops  Other Climate Birthrate Deathrate  \\\n0     36,0             3,2  12,13  0,22  87,65       1      46,6     20,34   \n1     86,5            71,2  21,09  4,42  74,49       3     15,11      5,22   \n2     70,0            78,1   3,22  0,25  96,53       1     17,14      4,61   \n3     97,0           259,5     10    15     75       2     22,46      3,27   \n4    100,0           497,2   2,22     0  97,78       3      8,71      6,25   \n\n  Agriculture Industry Service  \n0        0,38     0,24    0,38  \n1       0,232    0,188   0,579  \n2       0,101      0,6   0,298  \n3         NaN      NaN     NaN  \n4         NaN      NaN     NaN  ",
      "text/html": "<div>\n<style scoped>\n    .dataframe tbody tr th:only-of-type {\n        vertical-align: middle;\n    }\n\n    .dataframe tbody tr th {\n        vertical-align: top;\n    }\n\n    .dataframe thead th {\n        text-align: right;\n    }\n</style>\n<table border=\"1\" class=\"dataframe\">\n  <thead>\n    <tr style=\"text-align: right;\">\n      <th></th>\n      <th>Country</th>\n      <th>Region</th>\n      <th>Population</th>\n      <th>Area</th>\n      <th>Pop_density</th>\n      <th>Coastline_ratio</th>\n      <th>Net_migration</th>\n      <th>Infant_mortality</th>\n      <th>GDP</th>\n      <th>Literacy</th>\n      <th>Phones_per_1000</th>\n      <th>Arable</th>\n      <th>Crops</th>\n      <th>Other</th>\n      <th>Climate</th>\n      <th>Birthrate</th>\n      <th>Deathrate</th>\n      <th>Agriculture</th>\n      <th>Industry</th>\n      <th>Service</th>\n    </tr>\n  </thead>\n  <tbody>\n    <tr>\n      <th>0</th>\n      <td>Afghanistan</td>\n      <td>ASIA (EX. NEAR EAST)</td>\n      <td>31056997</td>\n      <td>647500</td>\n      <td>48,0</td>\n      <td>0,00</td>\n      <td>23,06</td>\n      <td>163,07</td>\n      <td>700.0</td>\n      <td>36,0</td>\n      <td>3,2</td>\n      <td>12,13</td>\n      <td>0,22</td>\n      <td>87,65</td>\n      <td>1</td>\n      <td>46,6</td>\n      <td>20,34</td>\n      <td>0,38</td>\n      <td>0,24</td>\n      <td>0,38</td>\n    </tr>\n    <tr>\n      <th>1</th>\n      <td>Albania</td>\n      <td>EASTERN EUROPE</td>\n      <td>3581655</td>\n      <td>28748</td>\n      <td>124,6</td>\n      <td>1,26</td>\n      <td>-4,93</td>\n      <td>21,52</td>\n      <td>4500.0</td>\n      <td>86,5</td>\n      <td>71,2</td>\n      <td>21,09</td>\n      <td>4,42</td>\n      <td>74,49</td>\n      <td>3</td>\n      <td>15,11</td>\n      <td>5,22</td>\n      <td>0,232</td>\n      <td>0,188</td>\n      <td>0,579</td>\n    </tr>\n    <tr>\n      <th>2</th>\n      <td>Algeria</td>\n      <td>NORTHERN AFRICA</td>\n      <td>32930091</td>\n      <td>2381740</td>\n      <td>13,8</td>\n      <td>0,04</td>\n      <td>-0,39</td>\n      <td>31</td>\n      <td>6000.0</td>\n      <td>70,0</td>\n      <td>78,1</td>\n      <td>3,22</td>\n      <td>0,25</td>\n      <td>96,53</td>\n      <td>1</td>\n      <td>17,14</td>\n      <td>4,61</td>\n      <td>0,101</td>\n      <td>0,6</td>\n      <td>0,298</td>\n    </tr>\n    <tr>\n      <th>3</th>\n      <td>American Samoa</td>\n      <td>OCEANIA</td>\n      <td>57794</td>\n      <td>199</td>\n      <td>290,4</td>\n      <td>58,29</td>\n      <td>-20,71</td>\n      <td>9,27</td>\n      <td>8000.0</td>\n      <td>97,0</td>\n      <td>259,5</td>\n      <td>10</td>\n      <td>15</td>\n      <td>75</td>\n      <td>2</td>\n      <td>22,46</td>\n      <td>3,27</td>\n      <td>NaN</td>\n      <td>NaN</td>\n      <td>NaN</td>\n    </tr>\n    <tr>\n      <th>4</th>\n      <td>Andorra</td>\n      <td>WESTERN EUROPE</td>\n      <td>71201</td>\n      <td>468</td>\n      <td>152,1</td>\n      <td>0,00</td>\n      <td>6,6</td>\n      <td>4,05</td>\n      <td>19000.0</td>\n      <td>100,0</td>\n      <td>497,2</td>\n      <td>2,22</td>\n      <td>0</td>\n      <td>97,78</td>\n      <td>3</td>\n      <td>8,71</td>\n      <td>6,25</td>\n      <td>NaN</td>\n      <td>NaN</td>\n      <td>NaN</td>\n    </tr>\n  </tbody>\n</table>\n</div>"
     },
     "metadata": {},
     "execution_count": 1249
    }
   ],
   "source": [
    "new_column_names = [\n",
    "    \"Country\", \"Region\", \"Population\", \"Area\", \"Pop_density\", \"Coastline_ratio\",\n",
    "    \"Net_migration\", \"Infant_mortality\", \"GDP\", \"Literacy\", \"Phones_per_1000\",\n",
    "    \"Arable\", \"Crops\", \"Other\", \"Climate\", \"Birthrate\", \"Deathrate\", \"Agriculture\",\n",
    "    \"Industry\", \"Service\"\n",
    "]\n",
    "\n",
    "countries.columns = new_column_names\n",
    "\n",
    "countries.head(5)"
   ]
  },
  {
   "cell_type": "markdown",
   "metadata": {},
   "source": [
    "## Observações\n",
    "\n",
    "Esse _data set_ ainda precisa de alguns ajustes iniciais. Primeiro, note que as variáveis numéricas estão usando vírgula como separador decimal e estão codificadas como strings. Corrija isso antes de continuar: transforme essas variáveis em numéricas adequadamente.\n",
    "\n",
    "Além disso, as variáveis `Country` e `Region` possuem espaços a mais no começo e no final da string. Você pode utilizar o método `str.strip()` para remover esses espaços."
   ]
  },
  {
   "cell_type": "markdown",
   "metadata": {},
   "source": [
    "## Inicia sua análise a partir daqui"
   ]
  },
  {
   "cell_type": "code",
   "execution_count": 1250,
   "metadata": {},
   "outputs": [
    {
     "output_type": "execute_result",
     "data": {
      "text/plain": "         Population          Area           GDP\ncount  2.270000e+02  2.270000e+02    226.000000\nmean   2.874028e+07  5.982270e+05   9689.823009\nstd    1.178913e+08  1.790282e+06  10049.138513\nmin    7.026000e+03  2.000000e+00    500.000000\n25%    4.376240e+05  4.647500e+03   1900.000000\n50%    4.786994e+06  8.660000e+04   5550.000000\n75%    1.749777e+07  4.418110e+05  15700.000000\nmax    1.313974e+09  1.707520e+07  55100.000000",
      "text/html": "<div>\n<style scoped>\n    .dataframe tbody tr th:only-of-type {\n        vertical-align: middle;\n    }\n\n    .dataframe tbody tr th {\n        vertical-align: top;\n    }\n\n    .dataframe thead th {\n        text-align: right;\n    }\n</style>\n<table border=\"1\" class=\"dataframe\">\n  <thead>\n    <tr style=\"text-align: right;\">\n      <th></th>\n      <th>Population</th>\n      <th>Area</th>\n      <th>GDP</th>\n    </tr>\n  </thead>\n  <tbody>\n    <tr>\n      <th>count</th>\n      <td>2.270000e+02</td>\n      <td>2.270000e+02</td>\n      <td>226.000000</td>\n    </tr>\n    <tr>\n      <th>mean</th>\n      <td>2.874028e+07</td>\n      <td>5.982270e+05</td>\n      <td>9689.823009</td>\n    </tr>\n    <tr>\n      <th>std</th>\n      <td>1.178913e+08</td>\n      <td>1.790282e+06</td>\n      <td>10049.138513</td>\n    </tr>\n    <tr>\n      <th>min</th>\n      <td>7.026000e+03</td>\n      <td>2.000000e+00</td>\n      <td>500.000000</td>\n    </tr>\n    <tr>\n      <th>25%</th>\n      <td>4.376240e+05</td>\n      <td>4.647500e+03</td>\n      <td>1900.000000</td>\n    </tr>\n    <tr>\n      <th>50%</th>\n      <td>4.786994e+06</td>\n      <td>8.660000e+04</td>\n      <td>5550.000000</td>\n    </tr>\n    <tr>\n      <th>75%</th>\n      <td>1.749777e+07</td>\n      <td>4.418110e+05</td>\n      <td>15700.000000</td>\n    </tr>\n    <tr>\n      <th>max</th>\n      <td>1.313974e+09</td>\n      <td>1.707520e+07</td>\n      <td>55100.000000</td>\n    </tr>\n  </tbody>\n</table>\n</div>"
     },
     "metadata": {},
     "execution_count": 1250
    }
   ],
   "source": [
    "countries.describe()"
   ]
  },
  {
   "cell_type": "code",
   "execution_count": 1251,
   "metadata": {},
   "outputs": [
    {
     "output_type": "execute_result",
     "data": {
      "text/plain": "                           colunas    tipos  faltantes  tamanho  unicos  \\\nCountry                    Country   object          0      227     227   \nRegion                      Region   object          0      227      11   \nPopulation              Population    int64          0      227     227   \nArea                          Area    int64          0      227     226   \nPop_density            Pop_density   object          0      227     219   \nCoastline_ratio    Coastline_ratio   object          0      227     151   \nNet_migration        Net_migration   object          3      227     157   \nInfant_mortality  Infant_mortality   object          3      227     220   \nGDP                            GDP  float64          1      227     130   \nLiteracy                  Literacy   object         18      227     140   \nPhones_per_1000    Phones_per_1000   object          4      227     214   \nArable                      Arable   object          2      227     203   \nCrops                        Crops   object          2      227     162   \nOther                        Other   object          2      227     209   \nClimate                    Climate   object         22      227       6   \nBirthrate                Birthrate   object          3      227     220   \nDeathrate                Deathrate   object          4      227     201   \nAgriculture            Agriculture   object         15      227     150   \nIndustry                  Industry   object         16      227     155   \nService                    Service   object         15      227     167   \n\n                  percentual  \nCountry              0.00000  \nRegion               0.00000  \nPopulation           0.00000  \nArea                 0.00000  \nPop_density          0.00000  \nCoastline_ratio      0.00000  \nNet_migration        0.01322  \nInfant_mortality     0.01322  \nGDP                  0.00441  \nLiteracy             0.07930  \nPhones_per_1000      0.01762  \nArable               0.00881  \nCrops                0.00881  \nOther                0.00881  \nClimate              0.09692  \nBirthrate            0.01322  \nDeathrate            0.01762  \nAgriculture          0.06608  \nIndustry             0.07048  \nService              0.06608  ",
      "text/html": "<div>\n<style scoped>\n    .dataframe tbody tr th:only-of-type {\n        vertical-align: middle;\n    }\n\n    .dataframe tbody tr th {\n        vertical-align: top;\n    }\n\n    .dataframe thead th {\n        text-align: right;\n    }\n</style>\n<table border=\"1\" class=\"dataframe\">\n  <thead>\n    <tr style=\"text-align: right;\">\n      <th></th>\n      <th>colunas</th>\n      <th>tipos</th>\n      <th>faltantes</th>\n      <th>tamanho</th>\n      <th>unicos</th>\n      <th>percentual</th>\n    </tr>\n  </thead>\n  <tbody>\n    <tr>\n      <th>Country</th>\n      <td>Country</td>\n      <td>object</td>\n      <td>0</td>\n      <td>227</td>\n      <td>227</td>\n      <td>0.00000</td>\n    </tr>\n    <tr>\n      <th>Region</th>\n      <td>Region</td>\n      <td>object</td>\n      <td>0</td>\n      <td>227</td>\n      <td>11</td>\n      <td>0.00000</td>\n    </tr>\n    <tr>\n      <th>Population</th>\n      <td>Population</td>\n      <td>int64</td>\n      <td>0</td>\n      <td>227</td>\n      <td>227</td>\n      <td>0.00000</td>\n    </tr>\n    <tr>\n      <th>Area</th>\n      <td>Area</td>\n      <td>int64</td>\n      <td>0</td>\n      <td>227</td>\n      <td>226</td>\n      <td>0.00000</td>\n    </tr>\n    <tr>\n      <th>Pop_density</th>\n      <td>Pop_density</td>\n      <td>object</td>\n      <td>0</td>\n      <td>227</td>\n      <td>219</td>\n      <td>0.00000</td>\n    </tr>\n    <tr>\n      <th>Coastline_ratio</th>\n      <td>Coastline_ratio</td>\n      <td>object</td>\n      <td>0</td>\n      <td>227</td>\n      <td>151</td>\n      <td>0.00000</td>\n    </tr>\n    <tr>\n      <th>Net_migration</th>\n      <td>Net_migration</td>\n      <td>object</td>\n      <td>3</td>\n      <td>227</td>\n      <td>157</td>\n      <td>0.01322</td>\n    </tr>\n    <tr>\n      <th>Infant_mortality</th>\n      <td>Infant_mortality</td>\n      <td>object</td>\n      <td>3</td>\n      <td>227</td>\n      <td>220</td>\n      <td>0.01322</td>\n    </tr>\n    <tr>\n      <th>GDP</th>\n      <td>GDP</td>\n      <td>float64</td>\n      <td>1</td>\n      <td>227</td>\n      <td>130</td>\n      <td>0.00441</td>\n    </tr>\n    <tr>\n      <th>Literacy</th>\n      <td>Literacy</td>\n      <td>object</td>\n      <td>18</td>\n      <td>227</td>\n      <td>140</td>\n      <td>0.07930</td>\n    </tr>\n    <tr>\n      <th>Phones_per_1000</th>\n      <td>Phones_per_1000</td>\n      <td>object</td>\n      <td>4</td>\n      <td>227</td>\n      <td>214</td>\n      <td>0.01762</td>\n    </tr>\n    <tr>\n      <th>Arable</th>\n      <td>Arable</td>\n      <td>object</td>\n      <td>2</td>\n      <td>227</td>\n      <td>203</td>\n      <td>0.00881</td>\n    </tr>\n    <tr>\n      <th>Crops</th>\n      <td>Crops</td>\n      <td>object</td>\n      <td>2</td>\n      <td>227</td>\n      <td>162</td>\n      <td>0.00881</td>\n    </tr>\n    <tr>\n      <th>Other</th>\n      <td>Other</td>\n      <td>object</td>\n      <td>2</td>\n      <td>227</td>\n      <td>209</td>\n      <td>0.00881</td>\n    </tr>\n    <tr>\n      <th>Climate</th>\n      <td>Climate</td>\n      <td>object</td>\n      <td>22</td>\n      <td>227</td>\n      <td>6</td>\n      <td>0.09692</td>\n    </tr>\n    <tr>\n      <th>Birthrate</th>\n      <td>Birthrate</td>\n      <td>object</td>\n      <td>3</td>\n      <td>227</td>\n      <td>220</td>\n      <td>0.01322</td>\n    </tr>\n    <tr>\n      <th>Deathrate</th>\n      <td>Deathrate</td>\n      <td>object</td>\n      <td>4</td>\n      <td>227</td>\n      <td>201</td>\n      <td>0.01762</td>\n    </tr>\n    <tr>\n      <th>Agriculture</th>\n      <td>Agriculture</td>\n      <td>object</td>\n      <td>15</td>\n      <td>227</td>\n      <td>150</td>\n      <td>0.06608</td>\n    </tr>\n    <tr>\n      <th>Industry</th>\n      <td>Industry</td>\n      <td>object</td>\n      <td>16</td>\n      <td>227</td>\n      <td>155</td>\n      <td>0.07048</td>\n    </tr>\n    <tr>\n      <th>Service</th>\n      <td>Service</td>\n      <td>object</td>\n      <td>15</td>\n      <td>227</td>\n      <td>167</td>\n      <td>0.06608</td>\n    </tr>\n  </tbody>\n</table>\n</div>"
     },
     "metadata": {},
     "execution_count": 1251
    }
   ],
   "source": [
    "cons = pd.DataFrame({'colunas': countries.columns,\n",
    "                    'tipos':countries.dtypes,\n",
    "                    'faltantes': countries.isna().sum(),\n",
    "                    'tamanho': countries.shape[0],\n",
    "                    'unicos': countries.nunique()})\n",
    "cons['percentual'] = round(cons['faltantes']/cons['tamanho'],5)\n",
    "cons"
   ]
  },
  {
   "cell_type": "code",
   "execution_count": 1252,
   "metadata": {
    "tags": []
   },
   "outputs": [
    {
     "output_type": "stream",
     "name": "stdout",
     "text": "Country\nRegion\nPopulation\nArea\nPop_density\nCoastline_ratio\nNet_migration\nInfant_mortality\nGDP\nLiteracy\nPhones_per_1000\nArable\nCrops\nOther\nClimate\nBirthrate\nDeathrate\nAgriculture\nIndustry\nService\n"
    }
   ],
   "source": [
    "try:\n",
    "    for coluna in cons['colunas']:\n",
    "        print(coluna)\n",
    "        if  coluna=='Population' or coluna=='Area' or coluna=='GDP':\n",
    "            continue \n",
    "        if coluna=='Region' or coluna=='Country':\n",
    "            countries[coluna] = [str.strip(x)  for x in countries[coluna]]\n",
    "            continue\n",
    "\n",
    "        countries[coluna] = [(str(x).replace(',', '.')) for x in countries[coluna]]\n",
    "        countries[coluna] = countries[coluna].astype('float64')\n",
    "\n",
    "except (AttributeError):\n",
    "    print(\"Ajustes ok\")"
   ]
  },
  {
   "cell_type": "markdown",
   "metadata": {},
   "source": [
    "## Questão 1\n",
    "\n",
    "Quais são as regiões (variável `Region`) presentes no _data set_? Retorne uma lista com as regiões únicas do _data set_ com os espaços à frente e atrás da string removidos (mas mantenha pontuação: ponto, hífen etc) e ordenadas em ordem alfabética."
   ]
  },
  {
   "cell_type": "code",
   "execution_count": 1254,
   "metadata": {},
   "outputs": [],
   "source": [
    "def q1():\n",
    "    regions = countries['Region'].unique()\n",
    "    return sorted(regions)"
   ]
  },
  {
   "cell_type": "markdown",
   "metadata": {},
   "source": [
    "## Questão 2\n",
    "\n",
    "Discretizando a variável `Pop_density` em 10 intervalos com `KBinsDiscretizer`, seguindo o encode `ordinal` e estratégia `quantile`, quantos países se encontram acima do 90º percentil? Responda como um único escalar inteiro."
   ]
  },
  {
   "cell_type": "code",
   "execution_count": 1255,
   "metadata": {
    "tags": []
   },
   "outputs": [
    {
     "output_type": "execute_result",
     "data": {
      "text/plain": "23"
     },
     "metadata": {},
     "execution_count": 1255
    }
   ],
   "source": [
    "countries_c = countries.copy()\n",
    "\n",
    "discretizer = KBinsDiscretizer(n_bins=10, encode=\"ordinal\", strategy=\"quantile\")\n",
    "discretizer.fit(countries_c[[\"Pop_density\"]])\n",
    "score_bins = discretizer.transform(countries[[\"Pop_density\"]])\n",
    "sum(score_bins[:,0]==9)"
   ]
  },
  {
   "cell_type": "code",
   "execution_count": 1256,
   "metadata": {
    "tags": []
   },
   "outputs": [
    {
     "output_type": "stream",
     "name": "stdout",
     "text": "Bins quantile\ninterval: #elements\n\n0.00 ⊢ 10.14: 23\n10.14 ⊢ 21.22: 23\n21.22 ⊢ 39.48: 22\n39.48 ⊢ 59.80: 23\n59.80 ⊢ 78.80: 22\n78.80 ⊢ 105.54: 23\n105.54 ⊢ 150.12: 23\n150.12 ⊢ 253.70: 22\n253.70 ⊢ 396.74: 23\n396.74 ⊢ 16271.50: 23\n"
    }
   ],
   "source": [
    "def get_interval(bin_idx, bin_edges):\n",
    "  return f\"{np.round(bin_edges[bin_idx], 2):.2f} ⊢ {np.round(bin_edges[bin_idx+1], 2):.2f}\"\n",
    "\n",
    "bin_edges_quantile = discretizer.bin_edges_[0]\n",
    "\n",
    "print(f\"Bins quantile\")\n",
    "print(f\"interval: #elements\\n\")\n",
    "for i in range(len(discretizer.bin_edges_[0])-1):\n",
    "    print(f\"{get_interval(i, bin_edges_quantile)}: {sum(score_bins[:, 0] == i)}\")\n",
    "\n",
    "score_intervals = pd.Series(score_bins.flatten().astype(np.int)).apply(get_interval, args=(bin_edges_quantile,))"
   ]
  },
  {
   "cell_type": "code",
   "execution_count": 1257,
   "metadata": {},
   "outputs": [],
   "source": [
    "def q2():\n",
    "    discretizer = KBinsDiscretizer(n_bins=10, encode=\"ordinal\", strategy=\"quantile\")\n",
    "    discretizer.fit(countries_c[[\"Pop_density\"]])\n",
    "    score_bins = discretizer.transform(countries_c[[\"Pop_density\"]])\n",
    "    return sum(score_bins[:,0]==9)"
   ]
  },
  {
   "cell_type": "markdown",
   "metadata": {},
   "source": [
    "# Questão 3\n",
    "\n",
    "Se codificarmos as variáveis `Region` e `Climate` usando _one-hot encoding_, quantos novos atributos seriam criados? Responda como um único escalar."
   ]
  },
  {
   "cell_type": "code",
   "execution_count": 1259,
   "metadata": {
    "tags": []
   },
   "outputs": [
    {
     "output_type": "stream",
     "name": "stdout",
     "text": "(227, 11)\n(227, 7)\n"
    }
   ],
   "source": [
    "one_hot_encoder_sparse = OneHotEncoder(sparse=True) # sparse=True é o default.\n",
    "\n",
    "countries_c['Climate']=countries_c['Climate'].fillna(0)\n",
    "\n",
    "region_encoded_sparse = one_hot_encoder_sparse.fit_transform(countries_c[[\"Region\"]])\n",
    "print(region_encoded_sparse.toarray().shape)\n",
    "\n",
    "\n",
    "climate_encoded_sparse = one_hot_encoder_sparse.fit_transform(countries_c[[\"Climate\"]])\n",
    "print(climate_encoded_sparse.toarray().shape)"
   ]
  },
  {
   "cell_type": "code",
   "execution_count": 1260,
   "metadata": {},
   "outputs": [],
   "source": [
    "def q3():\n",
    "   outliers = region_encoded_sparse.toarray().shape[1] + climate_encoded_sparse.toarray().shape[1]\n",
    "   return outliers"
   ]
  },
  {
   "cell_type": "markdown",
   "metadata": {},
   "source": [
    "## Questão 4\n",
    "\n",
    "Aplique o seguinte _pipeline_:\n",
    "\n",
    "1. Preencha as variáveis do tipo `int64` e `float64` com suas respectivas medianas.\n",
    "2. Padronize essas variáveis.\n",
    "\n",
    "Após aplicado o _pipeline_ descrito acima aos dados (somente nas variáveis dos tipos especificados), aplique o mesmo _pipeline_ (ou `ColumnTransformer`) ao dado abaixo. Qual o valor da variável `Arable` após o _pipeline_? Responda como um único float arredondado para três casas decimais."
   ]
  },
  {
   "cell_type": "code",
   "execution_count": 1262,
   "metadata": {},
   "outputs": [
    {
     "output_type": "execute_result",
     "data": {
      "text/plain": "          Country                Region  Population     Area  Pop_density  \\\n0     Afghanistan  ASIA (EX. NEAR EAST)    31056997   647500         48.0   \n1         Albania        EASTERN EUROPE     3581655    28748        124.6   \n2         Algeria       NORTHERN AFRICA    32930091  2381740         13.8   \n3  American Samoa               OCEANIA       57794      199        290.4   \n4         Andorra        WESTERN EUROPE       71201      468        152.1   \n\n   Coastline_ratio  Net_migration  Infant_mortality      GDP  Literacy  \\\n0             0.00          23.06            163.07    700.0      36.0   \n1             1.26          -4.93             21.52   4500.0      86.5   \n2             0.04          -0.39             31.00   6000.0      70.0   \n3            58.29         -20.71              9.27   8000.0      97.0   \n4             0.00           6.60              4.05  19000.0     100.0   \n\n   Phones_per_1000  Arable  Crops  Other  Climate  Birthrate  Deathrate  \\\n0              3.2   12.13   0.22  87.65      1.0      46.60      20.34   \n1             71.2   21.09   4.42  74.49      3.0      15.11       5.22   \n2             78.1    3.22   0.25  96.53      1.0      17.14       4.61   \n3            259.5   10.00  15.00  75.00      2.0      22.46       3.27   \n4            497.2    2.22   0.00  97.78      3.0       8.71       6.25   \n\n   Agriculture  Industry  Service  \n0        0.380     0.240    0.380  \n1        0.232     0.188    0.579  \n2        0.101     0.600    0.298  \n3          NaN       NaN      NaN  \n4          NaN       NaN      NaN  ",
      "text/html": "<div>\n<style scoped>\n    .dataframe tbody tr th:only-of-type {\n        vertical-align: middle;\n    }\n\n    .dataframe tbody tr th {\n        vertical-align: top;\n    }\n\n    .dataframe thead th {\n        text-align: right;\n    }\n</style>\n<table border=\"1\" class=\"dataframe\">\n  <thead>\n    <tr style=\"text-align: right;\">\n      <th></th>\n      <th>Country</th>\n      <th>Region</th>\n      <th>Population</th>\n      <th>Area</th>\n      <th>Pop_density</th>\n      <th>Coastline_ratio</th>\n      <th>Net_migration</th>\n      <th>Infant_mortality</th>\n      <th>GDP</th>\n      <th>Literacy</th>\n      <th>Phones_per_1000</th>\n      <th>Arable</th>\n      <th>Crops</th>\n      <th>Other</th>\n      <th>Climate</th>\n      <th>Birthrate</th>\n      <th>Deathrate</th>\n      <th>Agriculture</th>\n      <th>Industry</th>\n      <th>Service</th>\n    </tr>\n  </thead>\n  <tbody>\n    <tr>\n      <th>0</th>\n      <td>Afghanistan</td>\n      <td>ASIA (EX. NEAR EAST)</td>\n      <td>31056997</td>\n      <td>647500</td>\n      <td>48.0</td>\n      <td>0.00</td>\n      <td>23.06</td>\n      <td>163.07</td>\n      <td>700.0</td>\n      <td>36.0</td>\n      <td>3.2</td>\n      <td>12.13</td>\n      <td>0.22</td>\n      <td>87.65</td>\n      <td>1.0</td>\n      <td>46.60</td>\n      <td>20.34</td>\n      <td>0.380</td>\n      <td>0.240</td>\n      <td>0.380</td>\n    </tr>\n    <tr>\n      <th>1</th>\n      <td>Albania</td>\n      <td>EASTERN EUROPE</td>\n      <td>3581655</td>\n      <td>28748</td>\n      <td>124.6</td>\n      <td>1.26</td>\n      <td>-4.93</td>\n      <td>21.52</td>\n      <td>4500.0</td>\n      <td>86.5</td>\n      <td>71.2</td>\n      <td>21.09</td>\n      <td>4.42</td>\n      <td>74.49</td>\n      <td>3.0</td>\n      <td>15.11</td>\n      <td>5.22</td>\n      <td>0.232</td>\n      <td>0.188</td>\n      <td>0.579</td>\n    </tr>\n    <tr>\n      <th>2</th>\n      <td>Algeria</td>\n      <td>NORTHERN AFRICA</td>\n      <td>32930091</td>\n      <td>2381740</td>\n      <td>13.8</td>\n      <td>0.04</td>\n      <td>-0.39</td>\n      <td>31.00</td>\n      <td>6000.0</td>\n      <td>70.0</td>\n      <td>78.1</td>\n      <td>3.22</td>\n      <td>0.25</td>\n      <td>96.53</td>\n      <td>1.0</td>\n      <td>17.14</td>\n      <td>4.61</td>\n      <td>0.101</td>\n      <td>0.600</td>\n      <td>0.298</td>\n    </tr>\n    <tr>\n      <th>3</th>\n      <td>American Samoa</td>\n      <td>OCEANIA</td>\n      <td>57794</td>\n      <td>199</td>\n      <td>290.4</td>\n      <td>58.29</td>\n      <td>-20.71</td>\n      <td>9.27</td>\n      <td>8000.0</td>\n      <td>97.0</td>\n      <td>259.5</td>\n      <td>10.00</td>\n      <td>15.00</td>\n      <td>75.00</td>\n      <td>2.0</td>\n      <td>22.46</td>\n      <td>3.27</td>\n      <td>NaN</td>\n      <td>NaN</td>\n      <td>NaN</td>\n    </tr>\n    <tr>\n      <th>4</th>\n      <td>Andorra</td>\n      <td>WESTERN EUROPE</td>\n      <td>71201</td>\n      <td>468</td>\n      <td>152.1</td>\n      <td>0.00</td>\n      <td>6.60</td>\n      <td>4.05</td>\n      <td>19000.0</td>\n      <td>100.0</td>\n      <td>497.2</td>\n      <td>2.22</td>\n      <td>0.00</td>\n      <td>97.78</td>\n      <td>3.0</td>\n      <td>8.71</td>\n      <td>6.25</td>\n      <td>NaN</td>\n      <td>NaN</td>\n      <td>NaN</td>\n    </tr>\n  </tbody>\n</table>\n</div>"
     },
     "metadata": {},
     "execution_count": 1262
    }
   ],
   "source": [
    "from sklearn.pipeline import Pipeline\n",
    "from sklearn.impute import SimpleImputer\n",
    "from sklearn.preprocessing import  StandardScaler\n",
    "\n",
    "num_pipeline = Pipeline(steps=[\n",
    "    (\"imputer\", SimpleImputer(strategy=\"median\")), \n",
    "    ('std_scaler',StandardScaler())\n",
    "])\n",
    "\n",
    "pipeline_transformation = num_pipeline.fit(countries_c.iloc[:,2:])\n",
    "# num_pipeline.get_params()\n",
    "countries.head(5)"
   ]
  },
  {
   "cell_type": "code",
   "execution_count": 1263,
   "metadata": {},
   "outputs": [],
   "source": [
    "test_country = [\n",
    "    'Test Country', 'NEAR EAST', -0.19032480757326514,\n",
    "    -0.3232636124824411, -0.04421734470810142, -0.27528113360605316,\n",
    "    0.13255850810281325, -0.8054845935643491, 1.0119784924248225,\n",
    "    0.6189182532646624, 1.0074863283776458, 0.20239896852403538,\n",
    "    -0.043678728558593366, -0.13929748680369286, 1.3163604645710438,\n",
    "    -0.3699637766938669, -0.6149300604558857, -0.854369594993175,\n",
    "    0.263445277972641, 0.5712416961268142\n",
    "]"
   ]
  },
  {
   "cell_type": "code",
   "execution_count": 1264,
   "metadata": {},
   "outputs": [],
   "source": [
    "transform_test = num_pipeline.transform([test_country[2:]])"
   ]
  },
  {
   "cell_type": "code",
   "execution_count": 1265,
   "metadata": {},
   "outputs": [],
   "source": [
    "def q4():\n",
    "    return float(transform_test[:, countries_c.columns.get_loc('Arable') - 2].round(3))"
   ]
  },
  {
   "cell_type": "markdown",
   "metadata": {},
   "source": [
    "## Questão 5\n",
    "\n",
    "Descubra o número de _outliers_ da variável `Net_migration` segundo o método do _boxplot_, ou seja, usando a lógica:\n",
    "\n",
    "$$x \\notin [Q1 - 1.5 \\times \\text{IQR}, Q3 + 1.5 \\times \\text{IQR}] \\Rightarrow x \\text{ é outlier}$$\n",
    "\n",
    "que se encontram no grupo inferior e no grupo superior.\n",
    "\n",
    "Você deveria remover da análise as observações consideradas _outliers_ segundo esse método? Responda como uma tupla de três elementos `(outliers_abaixo, outliers_acima, removeria?)` ((int, int, bool))."
   ]
  },
  {
   "cell_type": "code",
   "execution_count": 1267,
   "metadata": {},
   "outputs": [],
   "source": [
    "countries_outlier=countries['Net_migration']"
   ]
  },
  {
   "cell_type": "code",
   "execution_count": 1269,
   "metadata": {},
   "outputs": [],
   "source": [
    "sns.boxplot(countries_outlier, orient=\"vertical\")"
   ]
  },
  {
   "cell_type": "code",
   "execution_count": 1270,
   "metadata": {},
   "outputs": [],
   "source": [
    "sns.distplot(countries_outlier.fillna(0))"
   ]
  },
  {
   "cell_type": "code",
   "execution_count": 1271,
   "metadata": {
    "tags": []
   },
   "outputs": [
    {
     "output_type": "stream",
     "name": "stdout",
     "text": "Faixa considerada \"normal\": [-3.8149999999999995, 3.885]\n"
    }
   ],
   "source": [
    "qan1 = countries_outlier.quantile(0.25)\n",
    "qan3 = countries_outlier.quantile(0.75)\n",
    "iqr = qan3 - qan1\n",
    "\n",
    "non_outlier_interval_iqr = [qan1 - 1.5 * iqr, qan3 + 1.5 * iqr]\n",
    "\n",
    "print(f\"Faixa considerada \\\"normal\\\": {non_outlier_interval_iqr}\")"
   ]
  },
  {
   "cell_type": "code",
   "execution_count": 1272,
   "metadata": {},
   "outputs": [],
   "source": [
    "outliers_bellow = countries_outlier[(countries_outlier < non_outlier_interval_iqr[0])] \n",
    "outliers_above = countries_outlier[(countries_outlier > non_outlier_interval_iqr[1])] "
   ]
  },
  {
   "cell_type": "code",
   "execution_count": 1273,
   "metadata": {},
   "outputs": [],
   "source": [
    "def q5():\n",
    "    return (len(outliers_bellow), len(outliers_above), False)"
   ]
  },
  {
   "cell_type": "markdown",
   "metadata": {},
   "source": [
    "## Questão 6\n",
    "Para as questões 6 e 7 utilize a biblioteca `fetch_20newsgroups` de datasets de test do `sklearn`\n",
    "\n",
    "Considere carregar as seguintes categorias e o dataset `newsgroups`:\n",
    "\n",
    "```\n",
    "categories = ['sci.electronics', 'comp.graphics', 'rec.motorcycles']\n",
    "newsgroup = fetch_20newsgroups(subset=\"train\", categories=categories, shuffle=True, random_state=42)\n",
    "```\n",
    "\n",
    "\n",
    "Aplique `CountVectorizer` ao _data set_ `newsgroups` e descubra o número de vezes que a palavra _phone_ aparece no corpus. Responda como um único escalar."
   ]
  },
  {
   "cell_type": "code",
   "execution_count": 1275,
   "metadata": {},
   "outputs": [
    {
     "output_type": "execute_result",
     "data": {
      "text/plain": "1773"
     },
     "metadata": {},
     "execution_count": 1275
    }
   ],
   "source": [
    "from sklearn.datasets import fetch_20newsgroups \n",
    "from sklearn.feature_extraction.text import (\n",
    "    CountVectorizer, TfidfTransformer, TfidfVectorizer\n",
    ")\n",
    "categories = ['sci.electronics', 'comp.graphics', 'rec.motorcycles']\n",
    "newsgroup = fetch_20newsgroups(subset=\"train\", categories=categories, shuffle=True, random_state=42)\n",
    "len(newsgroup.data)"
   ]
  },
  {
   "cell_type": "code",
   "execution_count": 1276,
   "metadata": {},
   "outputs": [
    {
     "output_type": "execute_result",
     "data": {
      "text/plain": "scipy.sparse.csr.csr_matrix"
     },
     "metadata": {},
     "execution_count": 1276
    }
   ],
   "source": [
    "count_vectorizer = CountVectorizer()\n",
    "newsgroups_counts = count_vectorizer.fit_transform(newsgroup.data)\n",
    "type(newsgroups_counts)"
   ]
  },
  {
   "cell_type": "code",
   "execution_count": 1277,
   "metadata": {},
   "outputs": [
    {
     "output_type": "execute_result",
     "data": {
      "text/plain": "array([213])"
     },
     "metadata": {},
     "execution_count": 1277
    }
   ],
   "source": [
    "phone_idx = count_vectorizer.vocabulary_.get(\"phone\")\n",
    "sum(newsgroups_counts[:,phone_idx].toarray())"
   ]
  },
  {
   "cell_type": "code",
   "execution_count": 1278,
   "metadata": {},
   "outputs": [],
   "source": [
    "def q6():\n",
    "    return int(sum(newsgroups_counts[:,phone_idx].toarray()))"
   ]
  },
  {
   "cell_type": "markdown",
   "metadata": {},
   "source": [
    "## Questão 7\n",
    "\n",
    "Aplique `TfidfVectorizer` ao _data set_ `newsgroups` e descubra o TF-IDF da palavra _phone_. Responda como um único escalar arredondado para três casas decimais."
   ]
  },
  {
   "cell_type": "code",
   "execution_count": 1280,
   "metadata": {},
   "outputs": [],
   "source": [
    "def q7():\n",
    "    tfidf_vectorizer = TfidfVectorizer()\n",
    "\n",
    "    tfidf_vectorizer.fit(newsgroup.data)\n",
    "\n",
    "    newsgroups_tfidf_vectorized = tfidf_vectorizer.transform(newsgroup.data)\n",
    "\n",
    "    sum(newsgroups_tfidf_vectorized[:,phone_idx].toarray())\n",
    "\n",
    "    return float(sum(newsgroups_tfidf_vectorized[:,phone_idx].toarray()).round(3))"
   ]
  },
  {
   "cell_type": "code",
   "execution_count": null,
   "metadata": {},
   "outputs": [],
   "source": []
  }
 ],
 "metadata": {
  "kernelspec": {
   "display_name": "Python 3.6.9 64-bit ('venv': venv)",
   "language": "python",
   "name": "python36964bitvenvvenvd81292098f064fa295f8c1e0948b1695"
  },
  "language_info": {
   "codemirror_mode": {
    "name": "ipython",
    "version": 3
   },
   "file_extension": ".py",
   "mimetype": "text/x-python",
   "name": "python",
   "nbconvert_exporter": "python",
   "pygments_lexer": "ipython3",
   "version": "3.6.9-final"
  }
 },
 "nbformat": 4,
 "nbformat_minor": 2
}